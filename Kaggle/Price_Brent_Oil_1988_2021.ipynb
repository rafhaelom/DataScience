{
  "nbformat": 4,
  "nbformat_minor": 0,
  "metadata": {
    "colab": {
      "name": "Price_Brent_Oil_1988_2021",
      "provenance": [],
      "collapsed_sections": []
    },
    "kernelspec": {
      "name": "python3",
      "display_name": "Python 3"
    }
  },
  "cells": [
    {
      "cell_type": "markdown",
      "metadata": {
        "id": "ZhOIlrxInX6p"
      },
      "source": [
        "# Análise do Preço do Brent Oil de 1988 - 2021\r\n",
        "Uma análise com a Série Temporal do Brent Oil."
      ]
    },
    {
      "cell_type": "code",
      "metadata": {
        "id": "k6hn5FgrnCVz"
      },
      "source": [
        "# Importando Bibliotecas\r\n",
        "import pandas as pd\r\n",
        "import matplotlib.pyplot as plt"
      ],
      "execution_count": 1,
      "outputs": []
    },
    {
      "cell_type": "code",
      "metadata": {
        "colab": {
          "base_uri": "https://localhost:8080/",
          "height": 204
        },
        "id": "_xAQ0ixtnvr_",
        "outputId": "6fc55159-ee2d-4432-a956-381dbaeddda9"
      },
      "source": [
        "df = pd.read_csv(\"/content/BrentOilPrices.csv\")\r\n",
        "df.head()"
      ],
      "execution_count": 13,
      "outputs": [
        {
          "output_type": "execute_result",
          "data": {
            "text/html": [
              "<div>\n",
              "<style scoped>\n",
              "    .dataframe tbody tr th:only-of-type {\n",
              "        vertical-align: middle;\n",
              "    }\n",
              "\n",
              "    .dataframe tbody tr th {\n",
              "        vertical-align: top;\n",
              "    }\n",
              "\n",
              "    .dataframe thead th {\n",
              "        text-align: right;\n",
              "    }\n",
              "</style>\n",
              "<table border=\"1\" class=\"dataframe\">\n",
              "  <thead>\n",
              "    <tr style=\"text-align: right;\">\n",
              "      <th></th>\n",
              "      <th>Date</th>\n",
              "      <th>Price</th>\n",
              "    </tr>\n",
              "  </thead>\n",
              "  <tbody>\n",
              "    <tr>\n",
              "      <th>0</th>\n",
              "      <td>20-May-87</td>\n",
              "      <td>18.63</td>\n",
              "    </tr>\n",
              "    <tr>\n",
              "      <th>1</th>\n",
              "      <td>21-May-87</td>\n",
              "      <td>18.45</td>\n",
              "    </tr>\n",
              "    <tr>\n",
              "      <th>2</th>\n",
              "      <td>22-May-87</td>\n",
              "      <td>18.55</td>\n",
              "    </tr>\n",
              "    <tr>\n",
              "      <th>3</th>\n",
              "      <td>25-May-87</td>\n",
              "      <td>18.60</td>\n",
              "    </tr>\n",
              "    <tr>\n",
              "      <th>4</th>\n",
              "      <td>26-May-87</td>\n",
              "      <td>18.63</td>\n",
              "    </tr>\n",
              "  </tbody>\n",
              "</table>\n",
              "</div>"
            ],
            "text/plain": [
              "        Date  Price\n",
              "0  20-May-87  18.63\n",
              "1  21-May-87  18.45\n",
              "2  22-May-87  18.55\n",
              "3  25-May-87  18.60\n",
              "4  26-May-87  18.63"
            ]
          },
          "metadata": {
            "tags": []
          },
          "execution_count": 13
        }
      ]
    },
    {
      "cell_type": "markdown",
      "metadata": {
        "id": "4jjEz2P0nVyW"
      },
      "source": [
        "## Análise Exploratório dos Dados"
      ]
    },
    {
      "cell_type": "code",
      "metadata": {
        "colab": {
          "base_uri": "https://localhost:8080/"
        },
        "id": "ufTm1QXVoTpQ",
        "outputId": "c1ddd288-d2b3-4180-dcdd-28cce2f7b1ba"
      },
      "source": [
        "# Verificando Informações do dataset\r\n",
        "df.info"
      ],
      "execution_count": 14,
      "outputs": [
        {
          "output_type": "execute_result",
          "data": {
            "text/plain": [
              "<bound method DataFrame.info of               Date  Price\n",
              "0        20-May-87  18.63\n",
              "1        21-May-87  18.45\n",
              "2        22-May-87  18.55\n",
              "3        25-May-87  18.60\n",
              "4        26-May-87  18.63\n",
              "...            ...    ...\n",
              "8549  Jan 19, 2021  55.38\n",
              "8550  Jan 20, 2021  55.66\n",
              "8551  Jan 21, 2021  55.68\n",
              "8552  Jan 22, 2021  55.22\n",
              "8553  Jan 25, 2021  55.44\n",
              "\n",
              "[8554 rows x 2 columns]>"
            ]
          },
          "metadata": {
            "tags": []
          },
          "execution_count": 14
        }
      ]
    },
    {
      "cell_type": "code",
      "metadata": {
        "colab": {
          "base_uri": "https://localhost:8080/",
          "height": 204
        },
        "id": "CX42Bbzdoduo",
        "outputId": "10f3a1d6-469e-4fb5-fd8c-315a5b9d6b0b"
      },
      "source": [
        "# Verificando os primeiros dados\r\n",
        "df.head()"
      ],
      "execution_count": 15,
      "outputs": [
        {
          "output_type": "execute_result",
          "data": {
            "text/html": [
              "<div>\n",
              "<style scoped>\n",
              "    .dataframe tbody tr th:only-of-type {\n",
              "        vertical-align: middle;\n",
              "    }\n",
              "\n",
              "    .dataframe tbody tr th {\n",
              "        vertical-align: top;\n",
              "    }\n",
              "\n",
              "    .dataframe thead th {\n",
              "        text-align: right;\n",
              "    }\n",
              "</style>\n",
              "<table border=\"1\" class=\"dataframe\">\n",
              "  <thead>\n",
              "    <tr style=\"text-align: right;\">\n",
              "      <th></th>\n",
              "      <th>Date</th>\n",
              "      <th>Price</th>\n",
              "    </tr>\n",
              "  </thead>\n",
              "  <tbody>\n",
              "    <tr>\n",
              "      <th>0</th>\n",
              "      <td>20-May-87</td>\n",
              "      <td>18.63</td>\n",
              "    </tr>\n",
              "    <tr>\n",
              "      <th>1</th>\n",
              "      <td>21-May-87</td>\n",
              "      <td>18.45</td>\n",
              "    </tr>\n",
              "    <tr>\n",
              "      <th>2</th>\n",
              "      <td>22-May-87</td>\n",
              "      <td>18.55</td>\n",
              "    </tr>\n",
              "    <tr>\n",
              "      <th>3</th>\n",
              "      <td>25-May-87</td>\n",
              "      <td>18.60</td>\n",
              "    </tr>\n",
              "    <tr>\n",
              "      <th>4</th>\n",
              "      <td>26-May-87</td>\n",
              "      <td>18.63</td>\n",
              "    </tr>\n",
              "  </tbody>\n",
              "</table>\n",
              "</div>"
            ],
            "text/plain": [
              "        Date  Price\n",
              "0  20-May-87  18.63\n",
              "1  21-May-87  18.45\n",
              "2  22-May-87  18.55\n",
              "3  25-May-87  18.60\n",
              "4  26-May-87  18.63"
            ]
          },
          "metadata": {
            "tags": []
          },
          "execution_count": 15
        }
      ]
    },
    {
      "cell_type": "code",
      "metadata": {
        "colab": {
          "base_uri": "https://localhost:8080/",
          "height": 204
        },
        "id": "tNQztWAFomqY",
        "outputId": "f3c4d953-67e3-4828-de2a-e384c315a865"
      },
      "source": [
        "# Verficando os últimos dados\r\n",
        "df.tail()"
      ],
      "execution_count": 16,
      "outputs": [
        {
          "output_type": "execute_result",
          "data": {
            "text/html": [
              "<div>\n",
              "<style scoped>\n",
              "    .dataframe tbody tr th:only-of-type {\n",
              "        vertical-align: middle;\n",
              "    }\n",
              "\n",
              "    .dataframe tbody tr th {\n",
              "        vertical-align: top;\n",
              "    }\n",
              "\n",
              "    .dataframe thead th {\n",
              "        text-align: right;\n",
              "    }\n",
              "</style>\n",
              "<table border=\"1\" class=\"dataframe\">\n",
              "  <thead>\n",
              "    <tr style=\"text-align: right;\">\n",
              "      <th></th>\n",
              "      <th>Date</th>\n",
              "      <th>Price</th>\n",
              "    </tr>\n",
              "  </thead>\n",
              "  <tbody>\n",
              "    <tr>\n",
              "      <th>8549</th>\n",
              "      <td>Jan 19, 2021</td>\n",
              "      <td>55.38</td>\n",
              "    </tr>\n",
              "    <tr>\n",
              "      <th>8550</th>\n",
              "      <td>Jan 20, 2021</td>\n",
              "      <td>55.66</td>\n",
              "    </tr>\n",
              "    <tr>\n",
              "      <th>8551</th>\n",
              "      <td>Jan 21, 2021</td>\n",
              "      <td>55.68</td>\n",
              "    </tr>\n",
              "    <tr>\n",
              "      <th>8552</th>\n",
              "      <td>Jan 22, 2021</td>\n",
              "      <td>55.22</td>\n",
              "    </tr>\n",
              "    <tr>\n",
              "      <th>8553</th>\n",
              "      <td>Jan 25, 2021</td>\n",
              "      <td>55.44</td>\n",
              "    </tr>\n",
              "  </tbody>\n",
              "</table>\n",
              "</div>"
            ],
            "text/plain": [
              "              Date  Price\n",
              "8549  Jan 19, 2021  55.38\n",
              "8550  Jan 20, 2021  55.66\n",
              "8551  Jan 21, 2021  55.68\n",
              "8552  Jan 22, 2021  55.22\n",
              "8553  Jan 25, 2021  55.44"
            ]
          },
          "metadata": {
            "tags": []
          },
          "execution_count": 16
        }
      ]
    },
    {
      "cell_type": "markdown",
      "metadata": {
        "id": "h3qleKM_otXD"
      },
      "source": [
        "### Diferença nas coluna Date\r\n",
        "Pode-se perceber a diferença no formato da data na coluna Date, entre os primeiros dados no dataset e os últimos. Para definir um padrão destes dados e ser possível uma análise com Série Temporal (Time Series), iremos utilizar a função da biblioteca pandas, **pd.to_datetime()** que converte a coluna em um formato tanto o seu tipo como o formato mesmo do dados disponível, em um formato padrão para Data e Hora que se utiliza em Séries Temporais.\r\n",
        "\r\n",
        "Mas antes desta transformação, veremos se há valores ausentes (nulos) e se há valores duplicados, também será utilizada funções da biblioteca pandas, como **isna()** com **sum()**, ou seja, **isna().sum()** irá verificar os valores ausentes e retornar a soma deste valores em cada coluna existente no dataset.\r\n",
        "E o **duplicated()** com o **sum()**, ou seja, **duplicated().sum()** irá verificar e retornar a soma dos valores duplicados em cada coluna do dataset."
      ]
    },
    {
      "cell_type": "code",
      "metadata": {
        "colab": {
          "base_uri": "https://localhost:8080/"
        },
        "id": "9EnOrKQKrDn9",
        "outputId": "687d66b6-90db-417c-ba84-a605de37403c"
      },
      "source": [
        "# Verificando valores ausentes\r\n",
        "df.isna().sum()"
      ],
      "execution_count": 17,
      "outputs": [
        {
          "output_type": "execute_result",
          "data": {
            "text/plain": [
              "Date     0\n",
              "Price    0\n",
              "dtype: int64"
            ]
          },
          "metadata": {
            "tags": []
          },
          "execution_count": 17
        }
      ]
    },
    {
      "cell_type": "code",
      "metadata": {
        "colab": {
          "base_uri": "https://localhost:8080/"
        },
        "id": "XBgdQnairbBR",
        "outputId": "b2609a99-64f2-4cb0-f241-ef14b2300bb3"
      },
      "source": [
        "# Verificando valores duplicados\r\n",
        "df.duplicated().sum()"
      ],
      "execution_count": 18,
      "outputs": [
        {
          "output_type": "execute_result",
          "data": {
            "text/plain": [
              "0"
            ]
          },
          "metadata": {
            "tags": []
          },
          "execution_count": 18
        }
      ]
    },
    {
      "cell_type": "markdown",
      "metadata": {
        "id": "L4p63ZGUrn53"
      },
      "source": [
        "### Agora sim, vamos padronizar a coluna Date"
      ]
    },
    {
      "cell_type": "code",
      "metadata": {
        "colab": {
          "base_uri": "https://localhost:8080/",
          "height": 204
        },
        "id": "z368JIBcrxgz",
        "outputId": "55150689-c6c2-4fe2-fa92-931d60895a2c"
      },
      "source": [
        "# Vemos que precisa-se modificar a coluna Date para o formato correto Ano-Mes-Dia\r\n",
        "df[\"Date\"] = pd.to_datetime(df[\"Date\"])\r\n",
        "df.head()"
      ],
      "execution_count": 19,
      "outputs": [
        {
          "output_type": "execute_result",
          "data": {
            "text/html": [
              "<div>\n",
              "<style scoped>\n",
              "    .dataframe tbody tr th:only-of-type {\n",
              "        vertical-align: middle;\n",
              "    }\n",
              "\n",
              "    .dataframe tbody tr th {\n",
              "        vertical-align: top;\n",
              "    }\n",
              "\n",
              "    .dataframe thead th {\n",
              "        text-align: right;\n",
              "    }\n",
              "</style>\n",
              "<table border=\"1\" class=\"dataframe\">\n",
              "  <thead>\n",
              "    <tr style=\"text-align: right;\">\n",
              "      <th></th>\n",
              "      <th>Date</th>\n",
              "      <th>Price</th>\n",
              "    </tr>\n",
              "  </thead>\n",
              "  <tbody>\n",
              "    <tr>\n",
              "      <th>0</th>\n",
              "      <td>1987-05-20</td>\n",
              "      <td>18.63</td>\n",
              "    </tr>\n",
              "    <tr>\n",
              "      <th>1</th>\n",
              "      <td>1987-05-21</td>\n",
              "      <td>18.45</td>\n",
              "    </tr>\n",
              "    <tr>\n",
              "      <th>2</th>\n",
              "      <td>1987-05-22</td>\n",
              "      <td>18.55</td>\n",
              "    </tr>\n",
              "    <tr>\n",
              "      <th>3</th>\n",
              "      <td>1987-05-25</td>\n",
              "      <td>18.60</td>\n",
              "    </tr>\n",
              "    <tr>\n",
              "      <th>4</th>\n",
              "      <td>1987-05-26</td>\n",
              "      <td>18.63</td>\n",
              "    </tr>\n",
              "  </tbody>\n",
              "</table>\n",
              "</div>"
            ],
            "text/plain": [
              "        Date  Price\n",
              "0 1987-05-20  18.63\n",
              "1 1987-05-21  18.45\n",
              "2 1987-05-22  18.55\n",
              "3 1987-05-25  18.60\n",
              "4 1987-05-26  18.63"
            ]
          },
          "metadata": {
            "tags": []
          },
          "execution_count": 19
        }
      ]
    },
    {
      "cell_type": "code",
      "metadata": {
        "colab": {
          "base_uri": "https://localhost:8080/"
        },
        "id": "2mwcltz_tF5b",
        "outputId": "e9588d5a-ae6d-40a9-f100-18546c4a9a7e"
      },
      "source": [
        "# Verificar se nenhum dado foi perdido\r\n",
        "df.isna().sum()"
      ],
      "execution_count": 20,
      "outputs": [
        {
          "output_type": "execute_result",
          "data": {
            "text/plain": [
              "Date     0\n",
              "Price    0\n",
              "dtype: int64"
            ]
          },
          "metadata": {
            "tags": []
          },
          "execution_count": 20
        }
      ]
    },
    {
      "cell_type": "code",
      "metadata": {
        "colab": {
          "base_uri": "https://localhost:8080/"
        },
        "id": "iX-S6Qf_tLBI",
        "outputId": "b7504f91-22aa-4b7d-92d5-9c36359f229f"
      },
      "source": [
        "# Verificar se nenhum dado foi duplicado\r\n",
        "df.duplicated().sum()"
      ],
      "execution_count": 21,
      "outputs": [
        {
          "output_type": "execute_result",
          "data": {
            "text/plain": [
              "0"
            ]
          },
          "metadata": {
            "tags": []
          },
          "execution_count": 21
        }
      ]
    },
    {
      "cell_type": "code",
      "metadata": {
        "id": "OIVQ4ZRztSZB"
      },
      "source": [
        "# Adicionando coluna só com o ano e só com o mês\r\n",
        "df['Ano']  = df['Date'].dt.strftime('%Y')\r\n",
        "df['Mes'] = df['Date'].dt.strftime('%m')"
      ],
      "execution_count": 29,
      "outputs": []
    },
    {
      "cell_type": "code",
      "metadata": {
        "colab": {
          "base_uri": "https://localhost:8080/",
          "height": 204
        },
        "id": "Ox0erC9sth-t",
        "outputId": "07c10f33-8b10-41ad-8aaa-a3c29adcbf01"
      },
      "source": [
        "# Verificando os primeiros dados\r\n",
        "df.head()"
      ],
      "execution_count": 30,
      "outputs": [
        {
          "output_type": "execute_result",
          "data": {
            "text/html": [
              "<div>\n",
              "<style scoped>\n",
              "    .dataframe tbody tr th:only-of-type {\n",
              "        vertical-align: middle;\n",
              "    }\n",
              "\n",
              "    .dataframe tbody tr th {\n",
              "        vertical-align: top;\n",
              "    }\n",
              "\n",
              "    .dataframe thead th {\n",
              "        text-align: right;\n",
              "    }\n",
              "</style>\n",
              "<table border=\"1\" class=\"dataframe\">\n",
              "  <thead>\n",
              "    <tr style=\"text-align: right;\">\n",
              "      <th></th>\n",
              "      <th>Date</th>\n",
              "      <th>Price</th>\n",
              "      <th>Ano</th>\n",
              "      <th>Mes</th>\n",
              "    </tr>\n",
              "  </thead>\n",
              "  <tbody>\n",
              "    <tr>\n",
              "      <th>0</th>\n",
              "      <td>1987-05-20</td>\n",
              "      <td>18.63</td>\n",
              "      <td>1987</td>\n",
              "      <td>05</td>\n",
              "    </tr>\n",
              "    <tr>\n",
              "      <th>1</th>\n",
              "      <td>1987-05-21</td>\n",
              "      <td>18.45</td>\n",
              "      <td>1987</td>\n",
              "      <td>05</td>\n",
              "    </tr>\n",
              "    <tr>\n",
              "      <th>2</th>\n",
              "      <td>1987-05-22</td>\n",
              "      <td>18.55</td>\n",
              "      <td>1987</td>\n",
              "      <td>05</td>\n",
              "    </tr>\n",
              "    <tr>\n",
              "      <th>3</th>\n",
              "      <td>1987-05-25</td>\n",
              "      <td>18.60</td>\n",
              "      <td>1987</td>\n",
              "      <td>05</td>\n",
              "    </tr>\n",
              "    <tr>\n",
              "      <th>4</th>\n",
              "      <td>1987-05-26</td>\n",
              "      <td>18.63</td>\n",
              "      <td>1987</td>\n",
              "      <td>05</td>\n",
              "    </tr>\n",
              "  </tbody>\n",
              "</table>\n",
              "</div>"
            ],
            "text/plain": [
              "        Date  Price   Ano Mes\n",
              "0 1987-05-20  18.63  1987  05\n",
              "1 1987-05-21  18.45  1987  05\n",
              "2 1987-05-22  18.55  1987  05\n",
              "3 1987-05-25  18.60  1987  05\n",
              "4 1987-05-26  18.63  1987  05"
            ]
          },
          "metadata": {
            "tags": []
          },
          "execution_count": 30
        }
      ]
    },
    {
      "cell_type": "code",
      "metadata": {
        "colab": {
          "base_uri": "https://localhost:8080/",
          "height": 204
        },
        "id": "Oe41X5L-wCCL",
        "outputId": "592b3a1d-951f-49cf-8a3c-0098655c1d19"
      },
      "source": [
        "# Verificando os últimos dados\r\n",
        "df.tail()"
      ],
      "execution_count": 31,
      "outputs": [
        {
          "output_type": "execute_result",
          "data": {
            "text/html": [
              "<div>\n",
              "<style scoped>\n",
              "    .dataframe tbody tr th:only-of-type {\n",
              "        vertical-align: middle;\n",
              "    }\n",
              "\n",
              "    .dataframe tbody tr th {\n",
              "        vertical-align: top;\n",
              "    }\n",
              "\n",
              "    .dataframe thead th {\n",
              "        text-align: right;\n",
              "    }\n",
              "</style>\n",
              "<table border=\"1\" class=\"dataframe\">\n",
              "  <thead>\n",
              "    <tr style=\"text-align: right;\">\n",
              "      <th></th>\n",
              "      <th>Date</th>\n",
              "      <th>Price</th>\n",
              "      <th>Ano</th>\n",
              "      <th>Mes</th>\n",
              "    </tr>\n",
              "  </thead>\n",
              "  <tbody>\n",
              "    <tr>\n",
              "      <th>8549</th>\n",
              "      <td>2021-01-19</td>\n",
              "      <td>55.38</td>\n",
              "      <td>2021</td>\n",
              "      <td>01</td>\n",
              "    </tr>\n",
              "    <tr>\n",
              "      <th>8550</th>\n",
              "      <td>2021-01-20</td>\n",
              "      <td>55.66</td>\n",
              "      <td>2021</td>\n",
              "      <td>01</td>\n",
              "    </tr>\n",
              "    <tr>\n",
              "      <th>8551</th>\n",
              "      <td>2021-01-21</td>\n",
              "      <td>55.68</td>\n",
              "      <td>2021</td>\n",
              "      <td>01</td>\n",
              "    </tr>\n",
              "    <tr>\n",
              "      <th>8552</th>\n",
              "      <td>2021-01-22</td>\n",
              "      <td>55.22</td>\n",
              "      <td>2021</td>\n",
              "      <td>01</td>\n",
              "    </tr>\n",
              "    <tr>\n",
              "      <th>8553</th>\n",
              "      <td>2021-01-25</td>\n",
              "      <td>55.44</td>\n",
              "      <td>2021</td>\n",
              "      <td>01</td>\n",
              "    </tr>\n",
              "  </tbody>\n",
              "</table>\n",
              "</div>"
            ],
            "text/plain": [
              "           Date  Price   Ano Mes\n",
              "8549 2021-01-19  55.38  2021  01\n",
              "8550 2021-01-20  55.66  2021  01\n",
              "8551 2021-01-21  55.68  2021  01\n",
              "8552 2021-01-22  55.22  2021  01\n",
              "8553 2021-01-25  55.44  2021  01"
            ]
          },
          "metadata": {
            "tags": []
          },
          "execution_count": 31
        }
      ]
    },
    {
      "cell_type": "code",
      "metadata": {
        "colab": {
          "base_uri": "https://localhost:8080/"
        },
        "id": "P6r7nujt1ezC",
        "outputId": "07489a66-3e22-40d3-ee66-0590db3195c0"
      },
      "source": [
        "# Verificando a distribuição do preço\r\n",
        "df.Price.describe()"
      ],
      "execution_count": 50,
      "outputs": [
        {
          "output_type": "execute_result",
          "data": {
            "text/plain": [
              "count    8554.000000\n",
              "mean       46.352962\n",
              "std        32.165282\n",
              "min         9.100000\n",
              "25%        18.850000\n",
              "50%        33.240000\n",
              "75%        66.210000\n",
              "max       143.950000\n",
              "Name: Price, dtype: float64"
            ]
          },
          "metadata": {
            "tags": []
          },
          "execution_count": 50
        }
      ]
    },
    {
      "cell_type": "code",
      "metadata": {
        "colab": {
          "base_uri": "https://localhost:8080/",
          "height": 281
        },
        "id": "pcDD2j0A1saX",
        "outputId": "d30a99d7-985d-4af1-f393-6e91aeb82699"
      },
      "source": [
        "# Criando gráfico para visualizar a distribuição de preços por ano\r\n",
        "# Criando gráfico de linhas\r\n",
        "plt.plot(df[\"Date\"], df[\"Price\"])\r\n",
        "# Título\r\n",
        "plt.title(\"Price per year\")\r\n",
        "# Visualizando\r\n",
        "plt.show()"
      ],
      "execution_count": 51,
      "outputs": [
        {
          "output_type": "display_data",
          "data": {
            "image/png": "[encoded data removed]",
            "text/plain": [
              "<Figure size 432x288 with 1 Axes>"
            ]
          },
          "metadata": {
            "tags": [],
            "needs_background": "light"
          }
        }
      ]
    },
    {
      "cell_type": "code",
      "metadata": {
        "colab": {
          "base_uri": "https://localhost:8080/"
        },
        "id": "bfKOZHOKwbcR",
        "outputId": "5a9e0252-203a-42ee-8514-5ef8b8904fbc"
      },
      "source": [
        "df.value_counts().sum()"
      ],
      "execution_count": 48,
      "outputs": [
        {
          "output_type": "execute_result",
          "data": {
            "text/plain": [
              "8554"
            ]
          },
          "metadata": {
            "tags": []
          },
          "execution_count": 48
        }
      ]
    },
    {
      "cell_type": "code",
      "metadata": {
        "colab": {
          "base_uri": "https://localhost:8080/",
          "height": 204
        },
        "id": "TpEE1yyPSi8y",
        "outputId": "a42f578c-9247-4034-ebb4-c26245acad74"
      },
      "source": [
        "ano_1990 = df[df[\"Ano\"] == \"1990\"]\r\n",
        "ano_1990.head()"
      ],
      "execution_count": 91,
      "outputs": [
        {
          "output_type": "execute_result",
          "data": {
            "text/html": [
              "<div>\n",
              "<style scoped>\n",
              "    .dataframe tbody tr th:only-of-type {\n",
              "        vertical-align: middle;\n",
              "    }\n",
              "\n",
              "    .dataframe tbody tr th {\n",
              "        vertical-align: top;\n",
              "    }\n",
              "\n",
              "    .dataframe thead th {\n",
              "        text-align: right;\n",
              "    }\n",
              "</style>\n",
              "<table border=\"1\" class=\"dataframe\">\n",
              "  <thead>\n",
              "    <tr style=\"text-align: right;\">\n",
              "      <th></th>\n",
              "      <th>Date</th>\n",
              "      <th>Price</th>\n",
              "      <th>Ano</th>\n",
              "      <th>Mes</th>\n",
              "    </tr>\n",
              "  </thead>\n",
              "  <tbody>\n",
              "    <tr>\n",
              "      <th>669</th>\n",
              "      <td>1990-01-02</td>\n",
              "      <td>21.20</td>\n",
              "      <td>1990</td>\n",
              "      <td>01</td>\n",
              "    </tr>\n",
              "    <tr>\n",
              "      <th>670</th>\n",
              "      <td>1990-01-03</td>\n",
              "      <td>22.65</td>\n",
              "      <td>1990</td>\n",
              "      <td>01</td>\n",
              "    </tr>\n",
              "    <tr>\n",
              "      <th>671</th>\n",
              "      <td>1990-01-04</td>\n",
              "      <td>22.50</td>\n",
              "      <td>1990</td>\n",
              "      <td>01</td>\n",
              "    </tr>\n",
              "    <tr>\n",
              "      <th>672</th>\n",
              "      <td>1990-01-05</td>\n",
              "      <td>23.13</td>\n",
              "      <td>1990</td>\n",
              "      <td>01</td>\n",
              "    </tr>\n",
              "    <tr>\n",
              "      <th>673</th>\n",
              "      <td>1990-01-08</td>\n",
              "      <td>21.38</td>\n",
              "      <td>1990</td>\n",
              "      <td>01</td>\n",
              "    </tr>\n",
              "  </tbody>\n",
              "</table>\n",
              "</div>"
            ],
            "text/plain": [
              "          Date  Price   Ano Mes\n",
              "669 1990-01-02  21.20  1990  01\n",
              "670 1990-01-03  22.65  1990  01\n",
              "671 1990-01-04  22.50  1990  01\n",
              "672 1990-01-05  23.13  1990  01\n",
              "673 1990-01-08  21.38  1990  01"
            ]
          },
          "metadata": {
            "tags": []
          },
          "execution_count": 91
        }
      ]
    },
    {
      "cell_type": "code",
      "metadata": {
        "colab": {
          "base_uri": "https://localhost:8080/",
          "height": 383
        },
        "id": "nTcALTiK51vZ",
        "outputId": "0fa6cab8-a012-4198-9e0a-723264491692"
      },
      "source": [
        "# Criando gráfico de linhas\r\n",
        "df[df[\"Ano\"] == \"2008\"][\"Price\"].plot(kind='bar', figsize=(30,8))"
      ],
      "execution_count": 100,
      "outputs": [
        {
          "output_type": "execute_result",
          "data": {
            "text/plain": [
              "<matplotlib.axes._subplots.AxesSubplot at 0x7fe592da9358>"
            ]
          },
          "metadata": {
            "tags": []
          },
          "execution_count": 100
        },
        {
          "output_type": "display_data",
          "data": {
            "image/png": "[encoded data removed]",
            "text/plain": [
              "<Figure size 2160x576 with 1 Axes>"
            ]
          },
          "metadata": {
            "tags": [],
            "needs_background": "light"
          }
        }
      ]
    },
    {
      "cell_type": "code",
      "metadata": {
        "colab": {
          "base_uri": "https://localhost:8080/",
          "height": 297
        },
        "id": "9fvyg_dUUi8r",
        "outputId": "80d3d5d6-9001-4cd6-bd2a-8fc5c913058a"
      },
      "source": [
        "ano_2008 = df[df[\"Ano\"] == \"2008\"]\r\n",
        "ano_2008.describe()"
      ],
      "execution_count": 101,
      "outputs": [
        {
          "output_type": "execute_result",
          "data": {
            "text/html": [
              "<div>\n",
              "<style scoped>\n",
              "    .dataframe tbody tr th:only-of-type {\n",
              "        vertical-align: middle;\n",
              "    }\n",
              "\n",
              "    .dataframe tbody tr th {\n",
              "        vertical-align: top;\n",
              "    }\n",
              "\n",
              "    .dataframe thead th {\n",
              "        text-align: right;\n",
              "    }\n",
              "</style>\n",
              "<table border=\"1\" class=\"dataframe\">\n",
              "  <thead>\n",
              "    <tr style=\"text-align: right;\">\n",
              "      <th></th>\n",
              "      <th>Price</th>\n",
              "    </tr>\n",
              "  </thead>\n",
              "  <tbody>\n",
              "    <tr>\n",
              "      <th>count</th>\n",
              "      <td>253.000000</td>\n",
              "    </tr>\n",
              "    <tr>\n",
              "      <th>mean</th>\n",
              "      <td>96.944348</td>\n",
              "    </tr>\n",
              "    <tr>\n",
              "      <th>std</th>\n",
              "      <td>28.896931</td>\n",
              "    </tr>\n",
              "    <tr>\n",
              "      <th>min</th>\n",
              "      <td>33.730000</td>\n",
              "    </tr>\n",
              "    <tr>\n",
              "      <th>25%</th>\n",
              "      <td>87.060000</td>\n",
              "    </tr>\n",
              "    <tr>\n",
              "      <th>50%</th>\n",
              "      <td>100.950000</td>\n",
              "    </tr>\n",
              "    <tr>\n",
              "      <th>75%</th>\n",
              "      <td>117.240000</td>\n",
              "    </tr>\n",
              "    <tr>\n",
              "      <th>max</th>\n",
              "      <td>143.950000</td>\n",
              "    </tr>\n",
              "  </tbody>\n",
              "</table>\n",
              "</div>"
            ],
            "text/plain": [
              "            Price\n",
              "count  253.000000\n",
              "mean    96.944348\n",
              "std     28.896931\n",
              "min     33.730000\n",
              "25%     87.060000\n",
              "50%    100.950000\n",
              "75%    117.240000\n",
              "max    143.950000"
            ]
          },
          "metadata": {
            "tags": []
          },
          "execution_count": 101
        }
      ]
    }
  ]
}