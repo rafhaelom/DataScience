{
  "nbformat": 4,
  "nbformat_minor": 0,
  "metadata": {
    "colab": {
      "name": "SQL_Analise_Wine_rafhael_martins.ipynb",
      "provenance": [],
      "collapsed_sections": []
    },
    "kernelspec": {
      "name": "python3",
      "display_name": "Python 3"
    },
    "language_info": {
      "name": "python"
    }
  },
  "cells": [
    {
      "cell_type": "markdown",
      "metadata": {
        "id": "xrf6tLz_htax"
      },
      "source": [
        "# Exemplos para abertura do arquivo .db"
      ]
    },
    {
      "cell_type": "code",
      "metadata": {
        "id": "6ilywdVj8opI",
        "colab": {
          "base_uri": "https://localhost:8080/"
        },
        "outputId": "9b99f631-4cce-4dce-f850-270f4c52d720"
      },
      "source": [
        "# Abrindo conexão com o Google Drive.\n",
        "\n",
        "from google.colab import drive\n",
        "drive.mount('/content/drive')"
      ],
      "execution_count": 1,
      "outputs": [
        {
          "output_type": "stream",
          "text": [
            "Mounted at /content/drive\n"
          ],
          "name": "stdout"
        }
      ]
    },
    {
      "cell_type": "code",
      "metadata": {
        "id": "BTOuZi1n_jGr"
      },
      "source": [
        "# Importando Bibliotecas\n",
        "import sqlite3\n",
        "import pandas as pd\n",
        "import numpy as np\n",
        "\n",
        "# Parametros do Pandas, limitando a quantidade máxima e a largura das colunas.\n",
        "pd.set_option('max_columns', 120)\n",
        "pd.set_option('max_colwidth', 5000)"
      ],
      "execution_count": 4,
      "outputs": []
    },
    {
      "cell_type": "markdown",
      "metadata": {
        "id": "DlI4iQlkvq-l"
      },
      "source": [
        "# Auxilio na aprendizagem atravéz destes sites:\n",
        "\n",
        "* [Curso em Vídeo](https://www.youtube.com/watch?v=jx2ne8iZMOA)\n",
        "* [Bóson treinamentos](https://www.youtube.com/watch?v=4nbECYDlAwc)\n",
        "* [Terminal Root](https://terminalroot.com.br/2019/10/inner-join-left-join-right-join-mysql.html)\n",
        "* [Dev Media](https://www.devmedia.com.br/clausulas-inner-join-left-join-e-right-join-no-sql-server/18930)\n",
        "* [Dev Media](https://www.devmedia.com.br/sql-join-entenda-como-funciona-o-retorno-dos-dados/31006)\n",
        "* [W3 School](https://www.w3schools.com/sql/sql_join_inner.asp)"
      ]
    },
    {
      "cell_type": "markdown",
      "metadata": {
        "id": "zcy28EtDiH3_"
      },
      "source": [
        "## 1 - Opção com SQL direto"
      ]
    },
    {
      "cell_type": "code",
      "metadata": {
        "id": "W7OpleEbA2hf"
      },
      "source": [
        "# Caminho do arquivo.\n",
        "caminho = \"/content/drive/MyDrive/ArquivosPA/analise_wine/wine.db\"\n",
        "# Criando a conexão com o banco de dados\n",
        "conexao = sqlite3.connect(caminho)"
      ],
      "execution_count": 18,
      "outputs": []
    },
    {
      "cell_type": "code",
      "metadata": {
        "colab": {
          "base_uri": "https://localhost:8080/",
          "height": 181
        },
        "id": "W3zButDDiWl6",
        "outputId": "a7374085-b9d2-4d8b-b8c9-024f22bec357"
      },
      "source": [
        "# Criando consulta e lendo os dados.\n",
        "consulta = \"\"\"SELECT * FROM ficha_tecnica\"\"\"\n",
        "fichaTecnica = pd.read_sql_query(consulta, conexao)\n",
        "fichaTecnica.head(1)"
      ],
      "execution_count": 19,
      "outputs": [
        {
          "output_type": "execute_result",
          "data": {
            "text/html": [
              "<div>\n",
              "<style scoped>\n",
              "    .dataframe tbody tr th:only-of-type {\n",
              "        vertical-align: middle;\n",
              "    }\n",
              "\n",
              "    .dataframe tbody tr th {\n",
              "        vertical-align: top;\n",
              "    }\n",
              "\n",
              "    .dataframe thead th {\n",
              "        text-align: right;\n",
              "    }\n",
              "</style>\n",
              "<table border=\"1\" class=\"dataframe\">\n",
              "  <thead>\n",
              "    <tr style=\"text-align: right;\">\n",
              "      <th></th>\n",
              "      <th>sku</th>\n",
              "      <th>tipo</th>\n",
              "      <th>uva</th>\n",
              "      <th>pais</th>\n",
              "      <th>regiao</th>\n",
              "      <th>vinicola</th>\n",
              "      <th>teor_alcoolico</th>\n",
              "      <th>amadurecimento</th>\n",
              "      <th>classificacao</th>\n",
              "      <th>visual</th>\n",
              "      <th>aroma</th>\n",
              "      <th>gosto</th>\n",
              "      <th>temperatura</th>\n",
              "      <th>potencial_de_guarda</th>\n",
              "    </tr>\n",
              "  </thead>\n",
              "  <tbody>\n",
              "    <tr>\n",
              "      <th>0</th>\n",
              "      <td>10839</td>\n",
              "      <td>Espumante</td>\n",
              "      <td>Chardonnay, Glera, Pinot Bianco</td>\n",
              "      <td>Itália</td>\n",
              "      <td>Friuli</td>\n",
              "      <td>Fantinel</td>\n",
              "      <td>11.50% ABV</td>\n",
              "      <td>Em tanques de aço inox</td>\n",
              "      <td>Brut</td>\n",
              "      <td>Amarelo-palha com reflexos esverdeados</td>\n",
              "      <td>Maçã, flores brancas</td>\n",
              "      <td>Leve, fresco, floral, frutado, acidez agradável</td>\n",
              "      <td>8 °C</td>\n",
              "      <td>4 anos</td>\n",
              "    </tr>\n",
              "  </tbody>\n",
              "</table>\n",
              "</div>"
            ],
            "text/plain": [
              "     sku       tipo                              uva    pais  regiao  \\\n",
              "0  10839  Espumante  Chardonnay, Glera, Pinot Bianco  Itália  Friuli   \n",
              "\n",
              "   vinicola teor_alcoolico          amadurecimento classificacao  \\\n",
              "0  Fantinel     11.50% ABV  Em tanques de aço inox          Brut   \n",
              "\n",
              "                                   visual                 aroma  \\\n",
              "0  Amarelo-palha com reflexos esverdeados  Maçã, flores brancas   \n",
              "\n",
              "                                             gosto temperatura  \\\n",
              "0  Leve, fresco, floral, frutado, acidez agradável        8 °C   \n",
              "\n",
              "  potencial_de_guarda  \n",
              "0              4 anos  "
            ]
          },
          "metadata": {
            "tags": []
          },
          "execution_count": 19
        }
      ]
    },
    {
      "cell_type": "code",
      "metadata": {
        "colab": {
          "base_uri": "https://localhost:8080/",
          "height": 214
        },
        "id": "q8Unl1fijpKm",
        "outputId": "aa2cd5c2-4c4a-43ef-c0d1-9e73ce2e3b0d"
      },
      "source": [
        "# Criando consulta e lendo os dados de outra tabela.\n",
        "consulta = \"\"\"SELECT * FROM harmonizacao\"\"\"\n",
        "harmonizacao = pd.read_sql_query(consulta, conexao)\n",
        "harmonizacao.head()"
      ],
      "execution_count": 20,
      "outputs": [
        {
          "output_type": "execute_result",
          "data": {
            "text/html": [
              "<div>\n",
              "<style scoped>\n",
              "    .dataframe tbody tr th:only-of-type {\n",
              "        vertical-align: middle;\n",
              "    }\n",
              "\n",
              "    .dataframe tbody tr th {\n",
              "        vertical-align: top;\n",
              "    }\n",
              "\n",
              "    .dataframe thead th {\n",
              "        text-align: right;\n",
              "    }\n",
              "</style>\n",
              "<table border=\"1\" class=\"dataframe\">\n",
              "  <thead>\n",
              "    <tr style=\"text-align: right;\">\n",
              "      <th></th>\n",
              "      <th>sku</th>\n",
              "      <th>harmonizacao</th>\n",
              "    </tr>\n",
              "  </thead>\n",
              "  <tbody>\n",
              "    <tr>\n",
              "      <th>0</th>\n",
              "      <td>10839</td>\n",
              "      <td>[Bruschettas, camarões salteados, arroz de polvo, bolinho de bacalhau, lasanha de peito de peru, penne à primavera.]</td>\n",
              "    </tr>\n",
              "    <tr>\n",
              "      <th>1</th>\n",
              "      <td>11549</td>\n",
              "      <td>[Pavê de pêssegos em calda, peras cozidas em especiarias com sorvete de baunilha, frutas flambadas ao rum e caramelizadas, apfelstrudel, torta de frutas secas, queijos azuis.]</td>\n",
              "    </tr>\n",
              "    <tr>\n",
              "      <th>2</th>\n",
              "      <td>11610</td>\n",
              "      <td>[Canapés e bruschettas, penne ao molho branco, espetinho de camarão, batata recheada, quiche de alho poró, peixe grelhado. ]</td>\n",
              "    </tr>\n",
              "    <tr>\n",
              "      <th>3</th>\n",
              "      <td>11982</td>\n",
              "      <td>[Cuca de frutas secas, panetone, cheesecake, colomba pascal, torta de morangos ou como ingrediente de sobremesas e molhos.]</td>\n",
              "    </tr>\n",
              "    <tr>\n",
              "      <th>4</th>\n",
              "      <td>11983</td>\n",
              "      <td>[Vinho de meditação ou aperitivo. Ideal com sobremesas com frutas secas, bolo de frutas, colomba pascal, queijos.]</td>\n",
              "    </tr>\n",
              "  </tbody>\n",
              "</table>\n",
              "</div>"
            ],
            "text/plain": [
              "     sku  \\\n",
              "0  10839   \n",
              "1  11549   \n",
              "2  11610   \n",
              "3  11982   \n",
              "4  11983   \n",
              "\n",
              "                                                                                                                                                                      harmonizacao  \n",
              "0                                                             [Bruschettas, camarões salteados, arroz de polvo, bolinho de bacalhau, lasanha de peito de peru, penne à primavera.]  \n",
              "1  [Pavê de pêssegos em calda, peras cozidas em especiarias com sorvete de baunilha, frutas flambadas ao rum e caramelizadas, apfelstrudel, torta de frutas secas, queijos azuis.]  \n",
              "2                                                     [Canapés e bruschettas, penne ao molho branco, espetinho de camarão, batata recheada, quiche de alho poró, peixe grelhado. ]  \n",
              "3                                                      [Cuca de frutas secas, panetone, cheesecake, colomba pascal, torta de morangos ou como ingrediente de sobremesas e molhos.]  \n",
              "4                                                               [Vinho de meditação ou aperitivo. Ideal com sobremesas com frutas secas, bolo de frutas, colomba pascal, queijos.]  "
            ]
          },
          "metadata": {
            "tags": []
          },
          "execution_count": 20
        }
      ]
    },
    {
      "cell_type": "code",
      "metadata": {
        "colab": {
          "base_uri": "https://localhost:8080/",
          "height": 197
        },
        "id": "7BzlPcgqtG4m",
        "outputId": "678ac770-ab4f-424c-e815-ac8ed7ba85f4"
      },
      "source": [
        "# Criando consulta e lendo os dados de outra tabela.\n",
        "consulta = \"\"\"SELECT * FROM price\"\"\"\n",
        "price = pd.read_sql_query(consulta, conexao)\n",
        "price.head()"
      ],
      "execution_count": 21,
      "outputs": [
        {
          "output_type": "execute_result",
          "data": {
            "text/html": [
              "<div>\n",
              "<style scoped>\n",
              "    .dataframe tbody tr th:only-of-type {\n",
              "        vertical-align: middle;\n",
              "    }\n",
              "\n",
              "    .dataframe tbody tr th {\n",
              "        vertical-align: top;\n",
              "    }\n",
              "\n",
              "    .dataframe thead th {\n",
              "        text-align: right;\n",
              "    }\n",
              "</style>\n",
              "<table border=\"1\" class=\"dataframe\">\n",
              "  <thead>\n",
              "    <tr style=\"text-align: right;\">\n",
              "      <th></th>\n",
              "      <th>sku</th>\n",
              "      <th>price_non_partner</th>\n",
              "      <th>price_partner</th>\n",
              "    </tr>\n",
              "  </thead>\n",
              "  <tbody>\n",
              "    <tr>\n",
              "      <th>0</th>\n",
              "      <td>10839</td>\n",
              "      <td>51.92</td>\n",
              "      <td>44.13</td>\n",
              "    </tr>\n",
              "    <tr>\n",
              "      <th>1</th>\n",
              "      <td>11549</td>\n",
              "      <td>504.70</td>\n",
              "      <td>429.00</td>\n",
              "    </tr>\n",
              "    <tr>\n",
              "      <th>2</th>\n",
              "      <td>11610</td>\n",
              "      <td>59.90</td>\n",
              "      <td>43.73</td>\n",
              "    </tr>\n",
              "    <tr>\n",
              "      <th>3</th>\n",
              "      <td>11982</td>\n",
              "      <td>132.90</td>\n",
              "      <td>112.97</td>\n",
              "    </tr>\n",
              "    <tr>\n",
              "      <th>4</th>\n",
              "      <td>11983</td>\n",
              "      <td>180.00</td>\n",
              "      <td>153.00</td>\n",
              "    </tr>\n",
              "  </tbody>\n",
              "</table>\n",
              "</div>"
            ],
            "text/plain": [
              "     sku  price_non_partner  price_partner\n",
              "0  10839              51.92          44.13\n",
              "1  11549             504.70         429.00\n",
              "2  11610              59.90          43.73\n",
              "3  11982             132.90         112.97\n",
              "4  11983             180.00         153.00"
            ]
          },
          "metadata": {
            "tags": []
          },
          "execution_count": 21
        }
      ]
    },
    {
      "cell_type": "code",
      "metadata": {
        "colab": {
          "base_uri": "https://localhost:8080/",
          "height": 197
        },
        "id": "BT9U8bYvtPzh",
        "outputId": "33c7fdd3-ea9e-4a96-b7b3-4f4060d56534"
      },
      "source": [
        "# Criando consulta e lendo os dados de outra tabela.\n",
        "consulta = \"\"\"SELECT * FROM review_rating\"\"\"\n",
        "reviewRating = pd.read_sql_query(consulta, conexao)\n",
        "reviewRating.head()"
      ],
      "execution_count": 22,
      "outputs": [
        {
          "output_type": "execute_result",
          "data": {
            "text/html": [
              "<div>\n",
              "<style scoped>\n",
              "    .dataframe tbody tr th:only-of-type {\n",
              "        vertical-align: middle;\n",
              "    }\n",
              "\n",
              "    .dataframe tbody tr th {\n",
              "        vertical-align: top;\n",
              "    }\n",
              "\n",
              "    .dataframe thead th {\n",
              "        text-align: right;\n",
              "    }\n",
              "</style>\n",
              "<table border=\"1\" class=\"dataframe\">\n",
              "  <thead>\n",
              "    <tr style=\"text-align: right;\">\n",
              "      <th></th>\n",
              "      <th>sku</th>\n",
              "      <th>reviewCount</th>\n",
              "      <th>ratingValue</th>\n",
              "    </tr>\n",
              "  </thead>\n",
              "  <tbody>\n",
              "    <tr>\n",
              "      <th>0</th>\n",
              "      <td>10839</td>\n",
              "      <td>178.0</td>\n",
              "      <td>4.0</td>\n",
              "    </tr>\n",
              "    <tr>\n",
              "      <th>1</th>\n",
              "      <td>11549</td>\n",
              "      <td></td>\n",
              "      <td></td>\n",
              "    </tr>\n",
              "    <tr>\n",
              "      <th>2</th>\n",
              "      <td>11610</td>\n",
              "      <td>25.0</td>\n",
              "      <td>3.5</td>\n",
              "    </tr>\n",
              "    <tr>\n",
              "      <th>3</th>\n",
              "      <td>11982</td>\n",
              "      <td>5.0</td>\n",
              "      <td>3.5</td>\n",
              "    </tr>\n",
              "    <tr>\n",
              "      <th>4</th>\n",
              "      <td>11983</td>\n",
              "      <td>7.0</td>\n",
              "      <td>4.0</td>\n",
              "    </tr>\n",
              "  </tbody>\n",
              "</table>\n",
              "</div>"
            ],
            "text/plain": [
              "     sku reviewCount ratingValue\n",
              "0  10839       178.0         4.0\n",
              "1  11549                        \n",
              "2  11610        25.0         3.5\n",
              "3  11982         5.0         3.5\n",
              "4  11983         7.0         4.0"
            ]
          },
          "metadata": {
            "tags": []
          },
          "execution_count": 22
        }
      ]
    },
    {
      "cell_type": "code",
      "metadata": {
        "colab": {
          "base_uri": "https://localhost:8080/",
          "height": 364
        },
        "id": "BdpMgxw6tb0o",
        "outputId": "2bbee08a-d0f6-4854-c5bf-3368344ac5e0"
      },
      "source": [
        "# Criando consulta e lendo os dados de outra tabela.\n",
        "consulta = \"\"\"SELECT * FROM sommelier\"\"\"\n",
        "sommelier = pd.read_sql_query(consulta, conexao)\n",
        "sommelier.head()"
      ],
      "execution_count": 23,
      "outputs": [
        {
          "output_type": "execute_result",
          "data": {
            "text/html": [
              "<div>\n",
              "<style scoped>\n",
              "    .dataframe tbody tr th:only-of-type {\n",
              "        vertical-align: middle;\n",
              "    }\n",
              "\n",
              "    .dataframe tbody tr th {\n",
              "        vertical-align: top;\n",
              "    }\n",
              "\n",
              "    .dataframe thead th {\n",
              "        text-align: right;\n",
              "    }\n",
              "</style>\n",
              "<table border=\"1\" class=\"dataframe\">\n",
              "  <thead>\n",
              "    <tr style=\"text-align: right;\">\n",
              "      <th></th>\n",
              "      <th>sku</th>\n",
              "      <th>sommelier_comment</th>\n",
              "    </tr>\n",
              "  </thead>\n",
              "  <tbody>\n",
              "    <tr>\n",
              "      <th>0</th>\n",
              "      <td>10839</td>\n",
              "      <td>[\\n                  Espumante italiano com aromas de maçã e flores brancas. No paladar, é leve, fresco, mostra as notas frutadas e florais do aroma. Esse exemplar é elaborado pelo método Charmat, para destacar notas frescas e a gostosa acidez. É ideal para harmonizar das entradas aos pratos principais.   \\n              ]</td>\n",
              "    </tr>\n",
              "    <tr>\n",
              "      <th>1</th>\n",
              "      <td>11549</td>\n",
              "      <td>[\\n                  Trata-se de uma novidade recente, um Icewine - vinho produzido com uvas que congelaram antes de serem colhidas, elaborado no império dos Tokaji, vinhos doces de tradição secular. Um pioneirismo do Chateau Pajzos, que só conseguiu elaborar 2 Icewine na região de Tokaj, este sendo o segundo, que além de tudo foi pontuado por Robert Parker.\\n              ]</td>\n",
              "    </tr>\n",
              "    <tr>\n",
              "      <th>2</th>\n",
              "      <td>11610</td>\n",
              "      <td>[\\n                  Esse espumante elaborado pelo método Charmat, é produzido pela Finca La Chamiza, uma vinícola-boutique argentina que integra um projeto da gigante Concha Y Toro. Inaugurada em Mendoza, em 2003, seus vinhedos ocupam a área de um antigo e histórico haras, onde o jogo de polo foi introduzido na Argentina.\\n              ]</td>\n",
              "    </tr>\n",
              "    <tr>\n",
              "      <th>3</th>\n",
              "      <td>11982</td>\n",
              "      <td>[\\n                  Esse exemplar com aromas de frutas maduras, elegante doçura e sabor intenso é produzido pela Pellegrino. Há uma lenda envolvendo a empresa vitivinícola que diz que o amor pelo trabalho fez a vinícola emergir na ilha. Marsala é um nome derivado da expressão árabe Marsah-el-Allah, que significa 'Portão de Deus'. \\n              ]</td>\n",
              "    </tr>\n",
              "    <tr>\n",
              "      <th>4</th>\n",
              "      <td>11983</td>\n",
              "      <td>[\\n                  Doce, macio, cheio e persistente, esse exemplar com aroma de frutas cristalizadas, casca de laranja, baunilha, mel e figos secos, é elaborado na Província de Trapani, na região da Sicília. O Marsala, inventado por colonizadores britânicos, é um vinho fortificado típico dessa região, que pode ser composto por variedades brancas como a Catarratto e a Grillo. Alguns relatos informam que seu nome é derivado da expressão árabe Marsah-el-Allah, que significa 'Portão de Deus'.     \\n              ]</td>\n",
              "    </tr>\n",
              "  </tbody>\n",
              "</table>\n",
              "</div>"
            ],
            "text/plain": [
              "     sku  \\\n",
              "0  10839   \n",
              "1  11549   \n",
              "2  11610   \n",
              "3  11982   \n",
              "4  11983   \n",
              "\n",
              "                                                                                                                                                                                                                                                                                                                                                                                                                                                                                                                       sommelier_comment  \n",
              "0                                                                                                                                                                                                   [\\n                  Espumante italiano com aromas de maçã e flores brancas. No paladar, é leve, fresco, mostra as notas frutadas e florais do aroma. Esse exemplar é elaborado pelo método Charmat, para destacar notas frescas e a gostosa acidez. É ideal para harmonizar das entradas aos pratos principais.   \\n              ]  \n",
              "1                                                                                                                                              [\\n                  Trata-se de uma novidade recente, um Icewine - vinho produzido com uvas que congelaram antes de serem colhidas, elaborado no império dos Tokaji, vinhos doces de tradição secular. Um pioneirismo do Chateau Pajzos, que só conseguiu elaborar 2 Icewine na região de Tokaj, este sendo o segundo, que além de tudo foi pontuado por Robert Parker.\\n              ]  \n",
              "2                                                                                                                                                                                  [\\n                  Esse espumante elaborado pelo método Charmat, é produzido pela Finca La Chamiza, uma vinícola-boutique argentina que integra um projeto da gigante Concha Y Toro. Inaugurada em Mendoza, em 2003, seus vinhedos ocupam a área de um antigo e histórico haras, onde o jogo de polo foi introduzido na Argentina.\\n              ]  \n",
              "3                                                                                                                                                                         [\\n                  Esse exemplar com aromas de frutas maduras, elegante doçura e sabor intenso é produzido pela Pellegrino. Há uma lenda envolvendo a empresa vitivinícola que diz que o amor pelo trabalho fez a vinícola emergir na ilha. Marsala é um nome derivado da expressão árabe Marsah-el-Allah, que significa 'Portão de Deus'. \\n              ]  \n",
              "4  [\\n                  Doce, macio, cheio e persistente, esse exemplar com aroma de frutas cristalizadas, casca de laranja, baunilha, mel e figos secos, é elaborado na Província de Trapani, na região da Sicília. O Marsala, inventado por colonizadores britânicos, é um vinho fortificado típico dessa região, que pode ser composto por variedades brancas como a Catarratto e a Grillo. Alguns relatos informam que seu nome é derivado da expressão árabe Marsah-el-Allah, que significa 'Portão de Deus'.     \\n              ]  "
            ]
          },
          "metadata": {
            "tags": []
          },
          "execution_count": 23
        }
      ]
    },
    {
      "cell_type": "markdown",
      "metadata": {
        "id": "YZHoulrGtqdc"
      },
      "source": [
        "Juntando as tabelas e uma só."
      ]
    },
    {
      "cell_type": "code",
      "metadata": {
        "colab": {
          "base_uri": "https://localhost:8080/",
          "height": 364
        },
        "id": "nkGmr57qthcQ",
        "outputId": "9b28ef28-0537-4034-f47d-e4fa2db215ac"
      },
      "source": [
        "# Primeira opção de junção com duas tabelas apenas.\n",
        "join = \"\"\"SELECT * FROM ficha_tecnica \n",
        "          INNER JOIN sommelier ON ficha_tecnica.sku = sommelier.sku\"\"\"\n",
        "df1 = pd.read_sql_query(join, conexao)\n",
        "df1.head(1)"
      ],
      "execution_count": 24,
      "outputs": [
        {
          "output_type": "execute_result",
          "data": {
            "text/html": [
              "<div>\n",
              "<style scoped>\n",
              "    .dataframe tbody tr th:only-of-type {\n",
              "        vertical-align: middle;\n",
              "    }\n",
              "\n",
              "    .dataframe tbody tr th {\n",
              "        vertical-align: top;\n",
              "    }\n",
              "\n",
              "    .dataframe thead th {\n",
              "        text-align: right;\n",
              "    }\n",
              "</style>\n",
              "<table border=\"1\" class=\"dataframe\">\n",
              "  <thead>\n",
              "    <tr style=\"text-align: right;\">\n",
              "      <th></th>\n",
              "      <th>sku</th>\n",
              "      <th>tipo</th>\n",
              "      <th>uva</th>\n",
              "      <th>pais</th>\n",
              "      <th>regiao</th>\n",
              "      <th>vinicola</th>\n",
              "      <th>teor_alcoolico</th>\n",
              "      <th>amadurecimento</th>\n",
              "      <th>classificacao</th>\n",
              "      <th>visual</th>\n",
              "      <th>aroma</th>\n",
              "      <th>gosto</th>\n",
              "      <th>temperatura</th>\n",
              "      <th>potencial_de_guarda</th>\n",
              "      <th>sku</th>\n",
              "      <th>sommelier_comment</th>\n",
              "    </tr>\n",
              "  </thead>\n",
              "  <tbody>\n",
              "    <tr>\n",
              "      <th>0</th>\n",
              "      <td>10839</td>\n",
              "      <td>Espumante</td>\n",
              "      <td>Chardonnay, Glera, Pinot Bianco</td>\n",
              "      <td>Itália</td>\n",
              "      <td>Friuli</td>\n",
              "      <td>Fantinel</td>\n",
              "      <td>11.50% ABV</td>\n",
              "      <td>Em tanques de aço inox</td>\n",
              "      <td>Brut</td>\n",
              "      <td>Amarelo-palha com reflexos esverdeados</td>\n",
              "      <td>Maçã, flores brancas</td>\n",
              "      <td>Leve, fresco, floral, frutado, acidez agradável</td>\n",
              "      <td>8 °C</td>\n",
              "      <td>4 anos</td>\n",
              "      <td>10839</td>\n",
              "      <td>[\\n                  Espumante italiano com aromas de maçã e flores brancas. No paladar, é leve, fresco, mostra as notas frutadas e florais do aroma. Esse exemplar é elaborado pelo método Charmat, para destacar notas frescas e a gostosa acidez. É ideal para harmonizar das entradas aos pratos principais.   \\n              ]</td>\n",
              "    </tr>\n",
              "  </tbody>\n",
              "</table>\n",
              "</div>"
            ],
            "text/plain": [
              "     sku       tipo                              uva    pais  regiao  \\\n",
              "0  10839  Espumante  Chardonnay, Glera, Pinot Bianco  Itália  Friuli   \n",
              "\n",
              "   vinicola teor_alcoolico          amadurecimento classificacao  \\\n",
              "0  Fantinel     11.50% ABV  Em tanques de aço inox          Brut   \n",
              "\n",
              "                                   visual                 aroma  \\\n",
              "0  Amarelo-palha com reflexos esverdeados  Maçã, flores brancas   \n",
              "\n",
              "                                             gosto temperatura  \\\n",
              "0  Leve, fresco, floral, frutado, acidez agradável        8 °C   \n",
              "\n",
              "  potencial_de_guarda    sku  \\\n",
              "0              4 anos  10839   \n",
              "\n",
              "                                                                                                                                                                                                                                                                                                                      sommelier_comment  \n",
              "0  [\\n                  Espumante italiano com aromas de maçã e flores brancas. No paladar, é leve, fresco, mostra as notas frutadas e florais do aroma. Esse exemplar é elaborado pelo método Charmat, para destacar notas frescas e a gostosa acidez. É ideal para harmonizar das entradas aos pratos principais.   \\n              ]  "
            ]
          },
          "metadata": {
            "tags": []
          },
          "execution_count": 24
        }
      ]
    },
    {
      "cell_type": "markdown",
      "metadata": {
        "id": "YXw7sVUst-FP"
      },
      "source": [
        "Está retorna o \"sku\" da tabela sommelier que é a chave estrangeira da tabela ficha_tecnica."
      ]
    },
    {
      "cell_type": "code",
      "metadata": {
        "colab": {
          "base_uri": "https://localhost:8080/",
          "height": 364
        },
        "id": "LmSzywnI-tWg",
        "outputId": "07977a78-2bfb-4cd1-98d0-80d87cdfaf65"
      },
      "source": [
        "# Primeiro e segundo modo d ejunção de todas as tabelas, porém retorna todos os sku de cada tabela.\n",
        "join_teste = \"\"\"SELECT * FROM ficha_tecnica \n",
        "                INNER JOIN harmonizacao ON ficha_tecnica.sku = harmonizacao.sku\n",
        "                INNER JOIN price ON ficha_tecnica.sku = price.sku\n",
        "                INNER JOIN review_rating ON ficha_tecnica.sku = review_rating.sku\n",
        "                INNER JOIN sommelier ON ficha_tecnica.sku = sommelier.sku\"\"\"\n",
        "df_teste = pd.read_sql_query(join_teste, conexao)\n",
        "df_teste.head(1)"
      ],
      "execution_count": 51,
      "outputs": [
        {
          "output_type": "execute_result",
          "data": {
            "text/html": [
              "<div>\n",
              "<style scoped>\n",
              "    .dataframe tbody tr th:only-of-type {\n",
              "        vertical-align: middle;\n",
              "    }\n",
              "\n",
              "    .dataframe tbody tr th {\n",
              "        vertical-align: top;\n",
              "    }\n",
              "\n",
              "    .dataframe thead th {\n",
              "        text-align: right;\n",
              "    }\n",
              "</style>\n",
              "<table border=\"1\" class=\"dataframe\">\n",
              "  <thead>\n",
              "    <tr style=\"text-align: right;\">\n",
              "      <th></th>\n",
              "      <th>sku</th>\n",
              "      <th>tipo</th>\n",
              "      <th>uva</th>\n",
              "      <th>pais</th>\n",
              "      <th>regiao</th>\n",
              "      <th>vinicola</th>\n",
              "      <th>teor_alcoolico</th>\n",
              "      <th>amadurecimento</th>\n",
              "      <th>classificacao</th>\n",
              "      <th>visual</th>\n",
              "      <th>aroma</th>\n",
              "      <th>gosto</th>\n",
              "      <th>temperatura</th>\n",
              "      <th>potencial_de_guarda</th>\n",
              "      <th>sku</th>\n",
              "      <th>harmonizacao</th>\n",
              "      <th>sku</th>\n",
              "      <th>price_non_partner</th>\n",
              "      <th>price_partner</th>\n",
              "      <th>sku</th>\n",
              "      <th>reviewCount</th>\n",
              "      <th>ratingValue</th>\n",
              "      <th>sku</th>\n",
              "      <th>sommelier_comment</th>\n",
              "    </tr>\n",
              "  </thead>\n",
              "  <tbody>\n",
              "    <tr>\n",
              "      <th>0</th>\n",
              "      <td>10839</td>\n",
              "      <td>Espumante</td>\n",
              "      <td>Chardonnay, Glera, Pinot Bianco</td>\n",
              "      <td>Itália</td>\n",
              "      <td>Friuli</td>\n",
              "      <td>Fantinel</td>\n",
              "      <td>11.50% ABV</td>\n",
              "      <td>Em tanques de aço inox</td>\n",
              "      <td>Brut</td>\n",
              "      <td>Amarelo-palha com reflexos esverdeados</td>\n",
              "      <td>Maçã, flores brancas</td>\n",
              "      <td>Leve, fresco, floral, frutado, acidez agradável</td>\n",
              "      <td>8 °C</td>\n",
              "      <td>4 anos</td>\n",
              "      <td>10839</td>\n",
              "      <td>[Bruschettas, camarões salteados, arroz de polvo, bolinho de bacalhau, lasanha de peito de peru, penne à primavera.]</td>\n",
              "      <td>10839</td>\n",
              "      <td>51.92</td>\n",
              "      <td>44.13</td>\n",
              "      <td>10839</td>\n",
              "      <td>178.0</td>\n",
              "      <td>4.0</td>\n",
              "      <td>10839</td>\n",
              "      <td>[\\n                  Espumante italiano com aromas de maçã e flores brancas. No paladar, é leve, fresco, mostra as notas frutadas e florais do aroma. Esse exemplar é elaborado pelo método Charmat, para destacar notas frescas e a gostosa acidez. É ideal para harmonizar das entradas aos pratos principais.   \\n              ]</td>\n",
              "    </tr>\n",
              "  </tbody>\n",
              "</table>\n",
              "</div>"
            ],
            "text/plain": [
              "     sku       tipo                              uva    pais  regiao  \\\n",
              "0  10839  Espumante  Chardonnay, Glera, Pinot Bianco  Itália  Friuli   \n",
              "\n",
              "   vinicola teor_alcoolico          amadurecimento classificacao  \\\n",
              "0  Fantinel     11.50% ABV  Em tanques de aço inox          Brut   \n",
              "\n",
              "                                   visual                 aroma  \\\n",
              "0  Amarelo-palha com reflexos esverdeados  Maçã, flores brancas   \n",
              "\n",
              "                                             gosto temperatura  \\\n",
              "0  Leve, fresco, floral, frutado, acidez agradável        8 °C   \n",
              "\n",
              "  potencial_de_guarda    sku  \\\n",
              "0              4 anos  10839   \n",
              "\n",
              "                                                                                                           harmonizacao  \\\n",
              "0  [Bruschettas, camarões salteados, arroz de polvo, bolinho de bacalhau, lasanha de peito de peru, penne à primavera.]   \n",
              "\n",
              "     sku  price_non_partner  price_partner    sku reviewCount ratingValue  \\\n",
              "0  10839              51.92          44.13  10839       178.0         4.0   \n",
              "\n",
              "     sku  \\\n",
              "0  10839   \n",
              "\n",
              "                                                                                                                                                                                                                                                                                                                      sommelier_comment  \n",
              "0  [\\n                  Espumante italiano com aromas de maçã e flores brancas. No paladar, é leve, fresco, mostra as notas frutadas e florais do aroma. Esse exemplar é elaborado pelo método Charmat, para destacar notas frescas e a gostosa acidez. É ideal para harmonizar das entradas aos pratos principais.   \\n              ]  "
            ]
          },
          "metadata": {
            "tags": []
          },
          "execution_count": 51
        }
      ]
    },
    {
      "cell_type": "code",
      "metadata": {
        "colab": {
          "base_uri": "https://localhost:8080/",
          "height": 364
        },
        "id": "GxhGwQQPuOsA",
        "outputId": "8d8f80e5-19ec-4d66-8db7-ca00bf66986d"
      },
      "source": [
        "# Segundo modo de junção sem trazer o sku (chave estrangeira) de duas tabelas apenas.\n",
        "join2 = \"\"\"SELECT ft.*, s.sommelier_comment \n",
        "           FROM ficha_tecnica ft\n",
        "           INNER JOIN sommelier s ON ft.sku = s.sku\"\"\"\n",
        "df2 = pd.read_sql_query(join2, conexao)\n",
        "df2.head(1)"
      ],
      "execution_count": 25,
      "outputs": [
        {
          "output_type": "execute_result",
          "data": {
            "text/html": [
              "<div>\n",
              "<style scoped>\n",
              "    .dataframe tbody tr th:only-of-type {\n",
              "        vertical-align: middle;\n",
              "    }\n",
              "\n",
              "    .dataframe tbody tr th {\n",
              "        vertical-align: top;\n",
              "    }\n",
              "\n",
              "    .dataframe thead th {\n",
              "        text-align: right;\n",
              "    }\n",
              "</style>\n",
              "<table border=\"1\" class=\"dataframe\">\n",
              "  <thead>\n",
              "    <tr style=\"text-align: right;\">\n",
              "      <th></th>\n",
              "      <th>sku</th>\n",
              "      <th>tipo</th>\n",
              "      <th>uva</th>\n",
              "      <th>pais</th>\n",
              "      <th>regiao</th>\n",
              "      <th>vinicola</th>\n",
              "      <th>teor_alcoolico</th>\n",
              "      <th>amadurecimento</th>\n",
              "      <th>classificacao</th>\n",
              "      <th>visual</th>\n",
              "      <th>aroma</th>\n",
              "      <th>gosto</th>\n",
              "      <th>temperatura</th>\n",
              "      <th>potencial_de_guarda</th>\n",
              "      <th>sommelier_comment</th>\n",
              "    </tr>\n",
              "  </thead>\n",
              "  <tbody>\n",
              "    <tr>\n",
              "      <th>0</th>\n",
              "      <td>10839</td>\n",
              "      <td>Espumante</td>\n",
              "      <td>Chardonnay, Glera, Pinot Bianco</td>\n",
              "      <td>Itália</td>\n",
              "      <td>Friuli</td>\n",
              "      <td>Fantinel</td>\n",
              "      <td>11.50% ABV</td>\n",
              "      <td>Em tanques de aço inox</td>\n",
              "      <td>Brut</td>\n",
              "      <td>Amarelo-palha com reflexos esverdeados</td>\n",
              "      <td>Maçã, flores brancas</td>\n",
              "      <td>Leve, fresco, floral, frutado, acidez agradável</td>\n",
              "      <td>8 °C</td>\n",
              "      <td>4 anos</td>\n",
              "      <td>[\\n                  Espumante italiano com aromas de maçã e flores brancas. No paladar, é leve, fresco, mostra as notas frutadas e florais do aroma. Esse exemplar é elaborado pelo método Charmat, para destacar notas frescas e a gostosa acidez. É ideal para harmonizar das entradas aos pratos principais.   \\n              ]</td>\n",
              "    </tr>\n",
              "  </tbody>\n",
              "</table>\n",
              "</div>"
            ],
            "text/plain": [
              "     sku       tipo                              uva    pais  regiao  \\\n",
              "0  10839  Espumante  Chardonnay, Glera, Pinot Bianco  Itália  Friuli   \n",
              "\n",
              "   vinicola teor_alcoolico          amadurecimento classificacao  \\\n",
              "0  Fantinel     11.50% ABV  Em tanques de aço inox          Brut   \n",
              "\n",
              "                                   visual                 aroma  \\\n",
              "0  Amarelo-palha com reflexos esverdeados  Maçã, flores brancas   \n",
              "\n",
              "                                             gosto temperatura  \\\n",
              "0  Leve, fresco, floral, frutado, acidez agradável        8 °C   \n",
              "\n",
              "  potencial_de_guarda  \\\n",
              "0              4 anos   \n",
              "\n",
              "                                                                                                                                                                                                                                                                                                                      sommelier_comment  \n",
              "0  [\\n                  Espumante italiano com aromas de maçã e flores brancas. No paladar, é leve, fresco, mostra as notas frutadas e florais do aroma. Esse exemplar é elaborado pelo método Charmat, para destacar notas frescas e a gostosa acidez. É ideal para harmonizar das entradas aos pratos principais.   \\n              ]  "
            ]
          },
          "metadata": {
            "tags": []
          },
          "execution_count": 25
        }
      ]
    },
    {
      "cell_type": "markdown",
      "metadata": {
        "id": "Rc2xU0TVum3a"
      },
      "source": [
        "Verificamos que com esse INNER JOIN ou somente JOIN acima, não trouxe o sku (chave estrangeira) novamente.\n",
        "\n",
        "Pra junção de todas as tabelas através da segunda opção:"
      ]
    },
    {
      "cell_type": "code",
      "metadata": {
        "colab": {
          "base_uri": "https://localhost:8080/",
          "height": 364
        },
        "id": "8V8WNHifu3KU",
        "outputId": "81614c65-680e-4d06-bfc5-a0d77caf9fd6"
      },
      "source": [
        "# Terceiro modo de junção sem trazer o sku (chave estrangeira) de todas tabelas.\n",
        "join3 = \"\"\"SELECT ft.*, h.harmonizacao, p.price_non_partner, p.price_partner, rr.reviewCount, rr.ratingValue, s.sommelier_comment \n",
        "           FROM ficha_tecnica ft\n",
        "           INNER JOIN harmonizacao h ON ft.sku = h.sku\n",
        "           INNER JOIN price p ON ft.sku = p.sku\n",
        "           INNER JOIN review_rating rr ON ft.sku = rr.sku\n",
        "           INNER JOIN sommelier s ON ft.sku = s.sku\"\"\"\n",
        "df3 = pd.read_sql_query(join3, conexao)\n",
        "df3.head(1)"
      ],
      "execution_count": 27,
      "outputs": [
        {
          "output_type": "execute_result",
          "data": {
            "text/html": [
              "<div>\n",
              "<style scoped>\n",
              "    .dataframe tbody tr th:only-of-type {\n",
              "        vertical-align: middle;\n",
              "    }\n",
              "\n",
              "    .dataframe tbody tr th {\n",
              "        vertical-align: top;\n",
              "    }\n",
              "\n",
              "    .dataframe thead th {\n",
              "        text-align: right;\n",
              "    }\n",
              "</style>\n",
              "<table border=\"1\" class=\"dataframe\">\n",
              "  <thead>\n",
              "    <tr style=\"text-align: right;\">\n",
              "      <th></th>\n",
              "      <th>sku</th>\n",
              "      <th>tipo</th>\n",
              "      <th>uva</th>\n",
              "      <th>pais</th>\n",
              "      <th>regiao</th>\n",
              "      <th>vinicola</th>\n",
              "      <th>teor_alcoolico</th>\n",
              "      <th>amadurecimento</th>\n",
              "      <th>classificacao</th>\n",
              "      <th>visual</th>\n",
              "      <th>aroma</th>\n",
              "      <th>gosto</th>\n",
              "      <th>temperatura</th>\n",
              "      <th>potencial_de_guarda</th>\n",
              "      <th>harmonizacao</th>\n",
              "      <th>price_non_partner</th>\n",
              "      <th>price_partner</th>\n",
              "      <th>reviewCount</th>\n",
              "      <th>ratingValue</th>\n",
              "      <th>sommelier_comment</th>\n",
              "    </tr>\n",
              "  </thead>\n",
              "  <tbody>\n",
              "    <tr>\n",
              "      <th>0</th>\n",
              "      <td>10839</td>\n",
              "      <td>Espumante</td>\n",
              "      <td>Chardonnay, Glera, Pinot Bianco</td>\n",
              "      <td>Itália</td>\n",
              "      <td>Friuli</td>\n",
              "      <td>Fantinel</td>\n",
              "      <td>11.50% ABV</td>\n",
              "      <td>Em tanques de aço inox</td>\n",
              "      <td>Brut</td>\n",
              "      <td>Amarelo-palha com reflexos esverdeados</td>\n",
              "      <td>Maçã, flores brancas</td>\n",
              "      <td>Leve, fresco, floral, frutado, acidez agradável</td>\n",
              "      <td>8 °C</td>\n",
              "      <td>4 anos</td>\n",
              "      <td>[Bruschettas, camarões salteados, arroz de polvo, bolinho de bacalhau, lasanha de peito de peru, penne à primavera.]</td>\n",
              "      <td>51.92</td>\n",
              "      <td>44.13</td>\n",
              "      <td>178.0</td>\n",
              "      <td>4.0</td>\n",
              "      <td>[\\n                  Espumante italiano com aromas de maçã e flores brancas. No paladar, é leve, fresco, mostra as notas frutadas e florais do aroma. Esse exemplar é elaborado pelo método Charmat, para destacar notas frescas e a gostosa acidez. É ideal para harmonizar das entradas aos pratos principais.   \\n              ]</td>\n",
              "    </tr>\n",
              "  </tbody>\n",
              "</table>\n",
              "</div>"
            ],
            "text/plain": [
              "     sku       tipo                              uva    pais  regiao  \\\n",
              "0  10839  Espumante  Chardonnay, Glera, Pinot Bianco  Itália  Friuli   \n",
              "\n",
              "   vinicola teor_alcoolico          amadurecimento classificacao  \\\n",
              "0  Fantinel     11.50% ABV  Em tanques de aço inox          Brut   \n",
              "\n",
              "                                   visual                 aroma  \\\n",
              "0  Amarelo-palha com reflexos esverdeados  Maçã, flores brancas   \n",
              "\n",
              "                                             gosto temperatura  \\\n",
              "0  Leve, fresco, floral, frutado, acidez agradável        8 °C   \n",
              "\n",
              "  potencial_de_guarda  \\\n",
              "0              4 anos   \n",
              "\n",
              "                                                                                                           harmonizacao  \\\n",
              "0  [Bruschettas, camarões salteados, arroz de polvo, bolinho de bacalhau, lasanha de peito de peru, penne à primavera.]   \n",
              "\n",
              "   price_non_partner  price_partner reviewCount ratingValue  \\\n",
              "0              51.92          44.13       178.0         4.0   \n",
              "\n",
              "                                                                                                                                                                                                                                                                                                                      sommelier_comment  \n",
              "0  [\\n                  Espumante italiano com aromas de maçã e flores brancas. No paladar, é leve, fresco, mostra as notas frutadas e florais do aroma. Esse exemplar é elaborado pelo método Charmat, para destacar notas frescas e a gostosa acidez. É ideal para harmonizar das entradas aos pratos principais.   \\n              ]  "
            ]
          },
          "metadata": {
            "tags": []
          },
          "execution_count": 27
        }
      ]
    },
    {
      "cell_type": "markdown",
      "metadata": {
        "id": "6zZdwMtMvblF"
      },
      "source": [
        "## 2 - Opção com o auxilio do tratamento de exceções, para identificação de erros nas consultas.\n",
        "Nesta será apresentado a função como no exemplo da aula."
      ]
    },
    {
      "cell_type": "code",
      "metadata": {
        "colab": {
          "base_uri": "https://localhost:8080/",
          "height": 364
        },
        "id": "Vgu34f5420nj",
        "outputId": "0a6426df-c13a-491e-e893-9e652a85d6b6"
      },
      "source": [
        "# Quarto modo de junção sem trazer o sku (chave estrangeira) de todas as tabelas.\n",
        "join4 = \"\"\"SELECT ft.*, h.harmonizacao, p.price_non_partner, p.price_partner, rr.reviewCount, rr.ratingValue, s.sommelier_comment \n",
        "          FROM ficha_tecnica ft\n",
        "          INNER JOIN harmonizacao h ON ft.sku = h.sku\n",
        "          INNER JOIN price p ON ft.sku = p.sku\n",
        "          INNER JOIN review_rating rr ON ft.sku = rr.sku\n",
        "          INNER JOIN sommelier s ON ft.sku = s.sku\"\"\"\n",
        "\n",
        "# Tratamento de exceções com o try e except.\n",
        "# try= tenta.\n",
        "# except = exceto, ou seja, tentou (try), não conseguiu ou exceto (except), mostre o erro.\n",
        "try:\n",
        "  # Caminho do arquivo.\n",
        "  caminho = \"/content/drive/MyDrive/ArquivosPA/analise_wine/wine.db\"\n",
        "  # Criando a conexão com o banco de dados\n",
        "  conexao = sqlite3.connect(caminho)\n",
        "  # Criando uma variável para para o DataFrame pandas.\n",
        "  dados1 = pd.read_sql_query(join4, conexao)\n",
        "except sqlite3.Error as error:\n",
        "    print(\"Erro ao conectar com o banco de dados SQLite\", error)\n",
        "\n",
        "#Lendo os primeiros dados, obs: aqui irá ler só a primeira linha.\n",
        "dados1.head(1)"
      ],
      "execution_count": 44,
      "outputs": [
        {
          "output_type": "execute_result",
          "data": {
            "text/html": [
              "<div>\n",
              "<style scoped>\n",
              "    .dataframe tbody tr th:only-of-type {\n",
              "        vertical-align: middle;\n",
              "    }\n",
              "\n",
              "    .dataframe tbody tr th {\n",
              "        vertical-align: top;\n",
              "    }\n",
              "\n",
              "    .dataframe thead th {\n",
              "        text-align: right;\n",
              "    }\n",
              "</style>\n",
              "<table border=\"1\" class=\"dataframe\">\n",
              "  <thead>\n",
              "    <tr style=\"text-align: right;\">\n",
              "      <th></th>\n",
              "      <th>sku</th>\n",
              "      <th>tipo</th>\n",
              "      <th>uva</th>\n",
              "      <th>pais</th>\n",
              "      <th>regiao</th>\n",
              "      <th>vinicola</th>\n",
              "      <th>teor_alcoolico</th>\n",
              "      <th>amadurecimento</th>\n",
              "      <th>classificacao</th>\n",
              "      <th>visual</th>\n",
              "      <th>aroma</th>\n",
              "      <th>gosto</th>\n",
              "      <th>temperatura</th>\n",
              "      <th>potencial_de_guarda</th>\n",
              "      <th>harmonizacao</th>\n",
              "      <th>price_non_partner</th>\n",
              "      <th>price_partner</th>\n",
              "      <th>reviewCount</th>\n",
              "      <th>ratingValue</th>\n",
              "      <th>sommelier_comment</th>\n",
              "    </tr>\n",
              "  </thead>\n",
              "  <tbody>\n",
              "    <tr>\n",
              "      <th>0</th>\n",
              "      <td>10839</td>\n",
              "      <td>Espumante</td>\n",
              "      <td>Chardonnay, Glera, Pinot Bianco</td>\n",
              "      <td>Itália</td>\n",
              "      <td>Friuli</td>\n",
              "      <td>Fantinel</td>\n",
              "      <td>11.50% ABV</td>\n",
              "      <td>Em tanques de aço inox</td>\n",
              "      <td>Brut</td>\n",
              "      <td>Amarelo-palha com reflexos esverdeados</td>\n",
              "      <td>Maçã, flores brancas</td>\n",
              "      <td>Leve, fresco, floral, frutado, acidez agradável</td>\n",
              "      <td>8 °C</td>\n",
              "      <td>4 anos</td>\n",
              "      <td>[Bruschettas, camarões salteados, arroz de polvo, bolinho de bacalhau, lasanha de peito de peru, penne à primavera.]</td>\n",
              "      <td>51.92</td>\n",
              "      <td>44.13</td>\n",
              "      <td>178.0</td>\n",
              "      <td>4.0</td>\n",
              "      <td>[\\n                  Espumante italiano com aromas de maçã e flores brancas. No paladar, é leve, fresco, mostra as notas frutadas e florais do aroma. Esse exemplar é elaborado pelo método Charmat, para destacar notas frescas e a gostosa acidez. É ideal para harmonizar das entradas aos pratos principais.   \\n              ]</td>\n",
              "    </tr>\n",
              "  </tbody>\n",
              "</table>\n",
              "</div>"
            ],
            "text/plain": [
              "     sku       tipo                              uva    pais  regiao  \\\n",
              "0  10839  Espumante  Chardonnay, Glera, Pinot Bianco  Itália  Friuli   \n",
              "\n",
              "   vinicola teor_alcoolico          amadurecimento classificacao  \\\n",
              "0  Fantinel     11.50% ABV  Em tanques de aço inox          Brut   \n",
              "\n",
              "                                   visual                 aroma  \\\n",
              "0  Amarelo-palha com reflexos esverdeados  Maçã, flores brancas   \n",
              "\n",
              "                                             gosto temperatura  \\\n",
              "0  Leve, fresco, floral, frutado, acidez agradável        8 °C   \n",
              "\n",
              "  potencial_de_guarda  \\\n",
              "0              4 anos   \n",
              "\n",
              "                                                                                                           harmonizacao  \\\n",
              "0  [Bruschettas, camarões salteados, arroz de polvo, bolinho de bacalhau, lasanha de peito de peru, penne à primavera.]   \n",
              "\n",
              "   price_non_partner  price_partner reviewCount ratingValue  \\\n",
              "0              51.92          44.13       178.0         4.0   \n",
              "\n",
              "                                                                                                                                                                                                                                                                                                                      sommelier_comment  \n",
              "0  [\\n                  Espumante italiano com aromas de maçã e flores brancas. No paladar, é leve, fresco, mostra as notas frutadas e florais do aroma. Esse exemplar é elaborado pelo método Charmat, para destacar notas frescas e a gostosa acidez. É ideal para harmonizar das entradas aos pratos principais.   \\n              ]  "
            ]
          },
          "metadata": {
            "tags": []
          },
          "execution_count": 44
        }
      ]
    },
    {
      "cell_type": "markdown",
      "metadata": {
        "id": "6mupqDmq7KQk"
      },
      "source": [
        "## 3 - Opção com a função demonstrada em aula."
      ]
    },
    {
      "cell_type": "code",
      "metadata": {
        "id": "6OqSOiDD81aV"
      },
      "source": [
        "# Caminho do arquivo.\n",
        "caminho = \"/content/drive/MyDrive/ArquivosPA/analise_wine/wine.db\"\n",
        "\n",
        "# Criando a conexão com o banco de dados\n",
        "def sqlitePandas(sqliteFile :caminho, query :str):\n",
        "    try:\n",
        "        sqliteConnection = sqlite3.connect(sqliteFile)\n",
        "        return(pd.read_sql_query(query, sqliteConnection))\n",
        "    except sqlite3.Error as error:\n",
        "        print(\"Erro ao conectar com o banco de dados SQLite\", error)"
      ],
      "execution_count": 46,
      "outputs": []
    },
    {
      "cell_type": "code",
      "metadata": {
        "colab": {
          "base_uri": "https://localhost:8080/",
          "height": 181
        },
        "id": "wbob5vZP7SrX",
        "outputId": "d2f96efb-64f8-446d-8106-89c0daa6d798"
      },
      "source": [
        "# Chamando a função e lendo os dados.\n",
        "queryFichaTecnica = \"\"\"SELECT * FROM ficha_tecnica\"\"\"\n",
        "qFichaTecnica = sqlitePandas(caminho, queryFichaTecnica)\n",
        "qFichaTecnica.head(1)"
      ],
      "execution_count": 48,
      "outputs": [
        {
          "output_type": "execute_result",
          "data": {
            "text/html": [
              "<div>\n",
              "<style scoped>\n",
              "    .dataframe tbody tr th:only-of-type {\n",
              "        vertical-align: middle;\n",
              "    }\n",
              "\n",
              "    .dataframe tbody tr th {\n",
              "        vertical-align: top;\n",
              "    }\n",
              "\n",
              "    .dataframe thead th {\n",
              "        text-align: right;\n",
              "    }\n",
              "</style>\n",
              "<table border=\"1\" class=\"dataframe\">\n",
              "  <thead>\n",
              "    <tr style=\"text-align: right;\">\n",
              "      <th></th>\n",
              "      <th>sku</th>\n",
              "      <th>tipo</th>\n",
              "      <th>uva</th>\n",
              "      <th>pais</th>\n",
              "      <th>regiao</th>\n",
              "      <th>vinicola</th>\n",
              "      <th>teor_alcoolico</th>\n",
              "      <th>amadurecimento</th>\n",
              "      <th>classificacao</th>\n",
              "      <th>visual</th>\n",
              "      <th>aroma</th>\n",
              "      <th>gosto</th>\n",
              "      <th>temperatura</th>\n",
              "      <th>potencial_de_guarda</th>\n",
              "    </tr>\n",
              "  </thead>\n",
              "  <tbody>\n",
              "    <tr>\n",
              "      <th>0</th>\n",
              "      <td>10839</td>\n",
              "      <td>Espumante</td>\n",
              "      <td>Chardonnay, Glera, Pinot Bianco</td>\n",
              "      <td>Itália</td>\n",
              "      <td>Friuli</td>\n",
              "      <td>Fantinel</td>\n",
              "      <td>11.50% ABV</td>\n",
              "      <td>Em tanques de aço inox</td>\n",
              "      <td>Brut</td>\n",
              "      <td>Amarelo-palha com reflexos esverdeados</td>\n",
              "      <td>Maçã, flores brancas</td>\n",
              "      <td>Leve, fresco, floral, frutado, acidez agradável</td>\n",
              "      <td>8 °C</td>\n",
              "      <td>4 anos</td>\n",
              "    </tr>\n",
              "  </tbody>\n",
              "</table>\n",
              "</div>"
            ],
            "text/plain": [
              "     sku       tipo                              uva    pais  regiao  \\\n",
              "0  10839  Espumante  Chardonnay, Glera, Pinot Bianco  Itália  Friuli   \n",
              "\n",
              "   vinicola teor_alcoolico          amadurecimento classificacao  \\\n",
              "0  Fantinel     11.50% ABV  Em tanques de aço inox          Brut   \n",
              "\n",
              "                                   visual                 aroma  \\\n",
              "0  Amarelo-palha com reflexos esverdeados  Maçã, flores brancas   \n",
              "\n",
              "                                             gosto temperatura  \\\n",
              "0  Leve, fresco, floral, frutado, acidez agradável        8 °C   \n",
              "\n",
              "  potencial_de_guarda  \n",
              "0              4 anos  "
            ]
          },
          "metadata": {
            "tags": []
          },
          "execution_count": 48
        }
      ]
    },
    {
      "cell_type": "code",
      "metadata": {
        "colab": {
          "base_uri": "https://localhost:8080/",
          "height": 364
        },
        "id": "X1nEHR3o8Pdb",
        "outputId": "07e2351d-98eb-44f2-d19a-cde933217bd4"
      },
      "source": [
        "# Chamando a função e fazendo a junção de todas as tabelas, primeira opção.\n",
        "query1 = \"\"\"SELECT * FROM ficha_tecnica \n",
        "            INNER JOIN harmonizacao ON ficha_tecnica.sku = harmonizacao.sku\n",
        "            INNER JOIN price ON ficha_tecnica.sku = price.sku\n",
        "            INNER JOIN review_rating ON ficha_tecnica.sku = review_rating.sku\n",
        "            INNER JOIN sommelier ON ficha_tecnica.sku = sommelier.sku\"\"\"\n",
        "\n",
        "dados2 = sqlitePandas(caminho, query1)\n",
        "dados2.head(1)"
      ],
      "execution_count": 49,
      "outputs": [
        {
          "output_type": "execute_result",
          "data": {
            "text/html": [
              "<div>\n",
              "<style scoped>\n",
              "    .dataframe tbody tr th:only-of-type {\n",
              "        vertical-align: middle;\n",
              "    }\n",
              "\n",
              "    .dataframe tbody tr th {\n",
              "        vertical-align: top;\n",
              "    }\n",
              "\n",
              "    .dataframe thead th {\n",
              "        text-align: right;\n",
              "    }\n",
              "</style>\n",
              "<table border=\"1\" class=\"dataframe\">\n",
              "  <thead>\n",
              "    <tr style=\"text-align: right;\">\n",
              "      <th></th>\n",
              "      <th>sku</th>\n",
              "      <th>tipo</th>\n",
              "      <th>uva</th>\n",
              "      <th>pais</th>\n",
              "      <th>regiao</th>\n",
              "      <th>vinicola</th>\n",
              "      <th>teor_alcoolico</th>\n",
              "      <th>amadurecimento</th>\n",
              "      <th>classificacao</th>\n",
              "      <th>visual</th>\n",
              "      <th>aroma</th>\n",
              "      <th>gosto</th>\n",
              "      <th>temperatura</th>\n",
              "      <th>potencial_de_guarda</th>\n",
              "      <th>sku</th>\n",
              "      <th>harmonizacao</th>\n",
              "      <th>sku</th>\n",
              "      <th>price_non_partner</th>\n",
              "      <th>price_partner</th>\n",
              "      <th>sku</th>\n",
              "      <th>reviewCount</th>\n",
              "      <th>ratingValue</th>\n",
              "      <th>sku</th>\n",
              "      <th>sommelier_comment</th>\n",
              "    </tr>\n",
              "  </thead>\n",
              "  <tbody>\n",
              "    <tr>\n",
              "      <th>0</th>\n",
              "      <td>10839</td>\n",
              "      <td>Espumante</td>\n",
              "      <td>Chardonnay, Glera, Pinot Bianco</td>\n",
              "      <td>Itália</td>\n",
              "      <td>Friuli</td>\n",
              "      <td>Fantinel</td>\n",
              "      <td>11.50% ABV</td>\n",
              "      <td>Em tanques de aço inox</td>\n",
              "      <td>Brut</td>\n",
              "      <td>Amarelo-palha com reflexos esverdeados</td>\n",
              "      <td>Maçã, flores brancas</td>\n",
              "      <td>Leve, fresco, floral, frutado, acidez agradável</td>\n",
              "      <td>8 °C</td>\n",
              "      <td>4 anos</td>\n",
              "      <td>10839</td>\n",
              "      <td>[Bruschettas, camarões salteados, arroz de polvo, bolinho de bacalhau, lasanha de peito de peru, penne à primavera.]</td>\n",
              "      <td>10839</td>\n",
              "      <td>51.92</td>\n",
              "      <td>44.13</td>\n",
              "      <td>10839</td>\n",
              "      <td>178.0</td>\n",
              "      <td>4.0</td>\n",
              "      <td>10839</td>\n",
              "      <td>[\\n                  Espumante italiano com aromas de maçã e flores brancas. No paladar, é leve, fresco, mostra as notas frutadas e florais do aroma. Esse exemplar é elaborado pelo método Charmat, para destacar notas frescas e a gostosa acidez. É ideal para harmonizar das entradas aos pratos principais.   \\n              ]</td>\n",
              "    </tr>\n",
              "  </tbody>\n",
              "</table>\n",
              "</div>"
            ],
            "text/plain": [
              "     sku       tipo                              uva    pais  regiao  \\\n",
              "0  10839  Espumante  Chardonnay, Glera, Pinot Bianco  Itália  Friuli   \n",
              "\n",
              "   vinicola teor_alcoolico          amadurecimento classificacao  \\\n",
              "0  Fantinel     11.50% ABV  Em tanques de aço inox          Brut   \n",
              "\n",
              "                                   visual                 aroma  \\\n",
              "0  Amarelo-palha com reflexos esverdeados  Maçã, flores brancas   \n",
              "\n",
              "                                             gosto temperatura  \\\n",
              "0  Leve, fresco, floral, frutado, acidez agradável        8 °C   \n",
              "\n",
              "  potencial_de_guarda    sku  \\\n",
              "0              4 anos  10839   \n",
              "\n",
              "                                                                                                           harmonizacao  \\\n",
              "0  [Bruschettas, camarões salteados, arroz de polvo, bolinho de bacalhau, lasanha de peito de peru, penne à primavera.]   \n",
              "\n",
              "     sku  price_non_partner  price_partner    sku reviewCount ratingValue  \\\n",
              "0  10839              51.92          44.13  10839       178.0         4.0   \n",
              "\n",
              "     sku  \\\n",
              "0  10839   \n",
              "\n",
              "                                                                                                                                                                                                                                                                                                                      sommelier_comment  \n",
              "0  [\\n                  Espumante italiano com aromas de maçã e flores brancas. No paladar, é leve, fresco, mostra as notas frutadas e florais do aroma. Esse exemplar é elaborado pelo método Charmat, para destacar notas frescas e a gostosa acidez. É ideal para harmonizar das entradas aos pratos principais.   \\n              ]  "
            ]
          },
          "metadata": {
            "tags": []
          },
          "execution_count": 49
        }
      ]
    },
    {
      "cell_type": "code",
      "metadata": {
        "id": "2LwSj94ACG_l",
        "colab": {
          "base_uri": "https://localhost:8080/",
          "height": 364
        },
        "outputId": "e740100d-38f1-43cc-ab59-65dfc836afbd"
      },
      "source": [
        "# Chamando a função e fazendo a junção de todas as tabelas, segunda opção.\n",
        "query2 = \"\"\"SELECT ft.*, h.harmonizacao, p.price_non_partner, p.price_partner, rr.reviewCount, rr.ratingValue, s.sommelier_comment \n",
        "            FROM ficha_tecnica ft\n",
        "            INNER JOIN harmonizacao h ON ft.sku = h.sku\n",
        "            INNER JOIN price p ON ft.sku = p.sku\n",
        "            INNER JOIN review_rating rr ON ft.sku = rr.sku\n",
        "            INNER JOIN sommelier s ON ft.sku = s.sku\"\"\"\n",
        "            \n",
        "dados3 = sqlitePandas(caminho, query2)\n",
        "dados3.head(1)"
      ],
      "execution_count": 50,
      "outputs": [
        {
          "output_type": "execute_result",
          "data": {
            "text/html": [
              "<div>\n",
              "<style scoped>\n",
              "    .dataframe tbody tr th:only-of-type {\n",
              "        vertical-align: middle;\n",
              "    }\n",
              "\n",
              "    .dataframe tbody tr th {\n",
              "        vertical-align: top;\n",
              "    }\n",
              "\n",
              "    .dataframe thead th {\n",
              "        text-align: right;\n",
              "    }\n",
              "</style>\n",
              "<table border=\"1\" class=\"dataframe\">\n",
              "  <thead>\n",
              "    <tr style=\"text-align: right;\">\n",
              "      <th></th>\n",
              "      <th>sku</th>\n",
              "      <th>tipo</th>\n",
              "      <th>uva</th>\n",
              "      <th>pais</th>\n",
              "      <th>regiao</th>\n",
              "      <th>vinicola</th>\n",
              "      <th>teor_alcoolico</th>\n",
              "      <th>amadurecimento</th>\n",
              "      <th>classificacao</th>\n",
              "      <th>visual</th>\n",
              "      <th>aroma</th>\n",
              "      <th>gosto</th>\n",
              "      <th>temperatura</th>\n",
              "      <th>potencial_de_guarda</th>\n",
              "      <th>harmonizacao</th>\n",
              "      <th>price_non_partner</th>\n",
              "      <th>price_partner</th>\n",
              "      <th>reviewCount</th>\n",
              "      <th>ratingValue</th>\n",
              "      <th>sommelier_comment</th>\n",
              "    </tr>\n",
              "  </thead>\n",
              "  <tbody>\n",
              "    <tr>\n",
              "      <th>0</th>\n",
              "      <td>10839</td>\n",
              "      <td>Espumante</td>\n",
              "      <td>Chardonnay, Glera, Pinot Bianco</td>\n",
              "      <td>Itália</td>\n",
              "      <td>Friuli</td>\n",
              "      <td>Fantinel</td>\n",
              "      <td>11.50% ABV</td>\n",
              "      <td>Em tanques de aço inox</td>\n",
              "      <td>Brut</td>\n",
              "      <td>Amarelo-palha com reflexos esverdeados</td>\n",
              "      <td>Maçã, flores brancas</td>\n",
              "      <td>Leve, fresco, floral, frutado, acidez agradável</td>\n",
              "      <td>8 °C</td>\n",
              "      <td>4 anos</td>\n",
              "      <td>[Bruschettas, camarões salteados, arroz de polvo, bolinho de bacalhau, lasanha de peito de peru, penne à primavera.]</td>\n",
              "      <td>51.92</td>\n",
              "      <td>44.13</td>\n",
              "      <td>178.0</td>\n",
              "      <td>4.0</td>\n",
              "      <td>[\\n                  Espumante italiano com aromas de maçã e flores brancas. No paladar, é leve, fresco, mostra as notas frutadas e florais do aroma. Esse exemplar é elaborado pelo método Charmat, para destacar notas frescas e a gostosa acidez. É ideal para harmonizar das entradas aos pratos principais.   \\n              ]</td>\n",
              "    </tr>\n",
              "  </tbody>\n",
              "</table>\n",
              "</div>"
            ],
            "text/plain": [
              "     sku       tipo                              uva    pais  regiao  \\\n",
              "0  10839  Espumante  Chardonnay, Glera, Pinot Bianco  Itália  Friuli   \n",
              "\n",
              "   vinicola teor_alcoolico          amadurecimento classificacao  \\\n",
              "0  Fantinel     11.50% ABV  Em tanques de aço inox          Brut   \n",
              "\n",
              "                                   visual                 aroma  \\\n",
              "0  Amarelo-palha com reflexos esverdeados  Maçã, flores brancas   \n",
              "\n",
              "                                             gosto temperatura  \\\n",
              "0  Leve, fresco, floral, frutado, acidez agradável        8 °C   \n",
              "\n",
              "  potencial_de_guarda  \\\n",
              "0              4 anos   \n",
              "\n",
              "                                                                                                           harmonizacao  \\\n",
              "0  [Bruschettas, camarões salteados, arroz de polvo, bolinho de bacalhau, lasanha de peito de peru, penne à primavera.]   \n",
              "\n",
              "   price_non_partner  price_partner reviewCount ratingValue  \\\n",
              "0              51.92          44.13       178.0         4.0   \n",
              "\n",
              "                                                                                                                                                                                                                                                                                                                      sommelier_comment  \n",
              "0  [\\n                  Espumante italiano com aromas de maçã e flores brancas. No paladar, é leve, fresco, mostra as notas frutadas e florais do aroma. Esse exemplar é elaborado pelo método Charmat, para destacar notas frescas e a gostosa acidez. É ideal para harmonizar das entradas aos pratos principais.   \\n              ]  "
            ]
          },
          "metadata": {
            "tags": []
          },
          "execution_count": 50
        }
      ]
    },
    {
      "cell_type": "markdown",
      "metadata": {
        "id": "nOWgHcVZ9ptz"
      },
      "source": [
        "# **OBS:** \n",
        "* Está forma de abordagem não é a verdadeira e melhor opção... \n",
        "* Foi a opção que encontrei e que funcionou no meu caso...\n",
        "\n",
        "**Existe/existem** várias outras maneiras a que se pode fazer uma abordagem com o SELECT e leitura do DataFrame, está opção não é a única maneira."
      ]
    }
  ]
}